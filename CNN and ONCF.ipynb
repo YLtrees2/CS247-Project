{
  "cells": [
    {
      "cell_type": "code",
      "execution_count": 1,
      "id": "b1d0cc58",
      "metadata": {
        "id": "b1d0cc58"
      },
      "outputs": [],
      "source": [
        "import pickle\n",
        "from pathlib import Path\n",
        "import pandas as pd\n",
        "import numpy as np\n",
        "import csv"
      ]
    },
    {
      "cell_type": "markdown",
      "source": [
        "###Import Data from Google Drive###"
      ],
      "metadata": {
        "id": "TItjXfHBixyn"
      },
      "id": "TItjXfHBixyn"
    },
    {
      "cell_type": "code",
      "source": [
        "from google.colab import drive\n",
        "drive.mount('/content/gdrive/')"
      ],
      "metadata": {
        "colab": {
          "base_uri": "https://localhost:8080/"
        },
        "id": "4CENu78nKMOa",
        "outputId": "35c06860-61f8-42cb-f844-b4deb2bbe4cb"
      },
      "id": "4CENu78nKMOa",
      "execution_count": 2,
      "outputs": [
        {
          "output_type": "stream",
          "name": "stdout",
          "text": [
            "Drive already mounted at /content/gdrive/; to attempt to forcibly remount, call drive.mount(\"/content/gdrive/\", force_remount=True).\n"
          ]
        }
      ]
    },
    {
      "cell_type": "code",
      "source": [
        "DATA_DIR = Path('/content/gdrive/MyDrive/cs247/Final_Project')"
      ],
      "metadata": {
        "id": "jZAOqSFFKNdf"
      },
      "id": "jZAOqSFFKNdf",
      "execution_count": 3,
      "outputs": []
    },
    {
      "cell_type": "code",
      "execution_count": 4,
      "id": "33ddbd7f",
      "metadata": {
        "id": "33ddbd7f"
      },
      "outputs": [],
      "source": [
        "# load data\n",
        "with open(DATA_DIR/'anime_embedding_map_small.pkl', 'rb') as f:\n",
        "    anime_embedding_map = pickle.load(f)\n",
        "\n",
        "with open(DATA_DIR/'genre_embedding_map_small.pkl', 'rb') as f:\n",
        "    genre_embedding_map = pickle.load(f)\n",
        "\n",
        "with open(DATA_DIR/'user_embedding_map.pkl', 'rb') as f:\n",
        "    user_embedding = pickle.load(f)\n",
        "\n",
        "with open(DATA_DIR/'genre_df.pkl', 'rb') as f:\n",
        "    genre_df = pickle.load(f)\n",
        "\n",
        "with open(DATA_DIR/'X.pkl', 'rb') as f:\n",
        "    X = pickle.load(f)\n",
        "\n",
        "with open(DATA_DIR/'y.pkl', 'rb') as f:\n",
        "    y = pickle.load(f)"
      ]
    },
    {
      "cell_type": "code",
      "source": [
        "print(len(user_embedding))"
      ],
      "metadata": {
        "colab": {
          "base_uri": "https://localhost:8080/"
        },
        "id": "I_zWYrMHMcbc",
        "outputId": "a86b6f0a-a7f9-4dfe-b82f-a4259f3bb22d"
      },
      "id": "I_zWYrMHMcbc",
      "execution_count": 5,
      "outputs": [
        {
          "output_type": "stream",
          "name": "stdout",
          "text": [
            "91641\n"
          ]
        }
      ]
    },
    {
      "cell_type": "markdown",
      "source": [
        "###Data Processing and Generation###"
      ],
      "metadata": {
        "id": "VOkZiB_xi35y"
      },
      "id": "VOkZiB_xi35y"
    },
    {
      "cell_type": "code",
      "source": [
        "data = {'user_id' : [], 'anime_id' : [], 'rating' : [], 'watching_status' : []}\n",
        "\n",
        "with open(DATA_DIR/'data_new.csv', mode='r') as inp:\n",
        "    reader = csv.DictReader(inp)\n",
        "    count = 0\n",
        "    for rows in reader:\n",
        "      count += 1\n",
        "      if count == 1:\n",
        "        continue\n",
        "      data['user_id'].append(rows['user_id'])\n",
        "      data['anime_id'].append(rows['anime_id'])\n",
        "      data['rating'].append(rows['rating'])\n",
        "      data['watching_status'].append(rows['watching_status'])"
      ],
      "metadata": {
        "id": "YmXA4gT-yzvg"
      },
      "id": "YmXA4gT-yzvg",
      "execution_count": 6,
      "outputs": []
    },
    {
      "cell_type": "code",
      "source": [
        "print(len(data['rating']))"
      ],
      "metadata": {
        "colab": {
          "base_uri": "https://localhost:8080/"
        },
        "id": "DBjtmEuK6318",
        "outputId": "0beda41e-975c-475b-a449-cc7e41f9d995"
      },
      "id": "DBjtmEuK6318",
      "execution_count": 7,
      "outputs": [
        {
          "output_type": "stream",
          "name": "stdout",
          "text": [
            "4709361\n"
          ]
        }
      ]
    },
    {
      "cell_type": "code",
      "source": [
        "y = y.values"
      ],
      "metadata": {
        "id": "tZgMIDSN38sv"
      },
      "id": "tZgMIDSN38sv",
      "execution_count": 8,
      "outputs": []
    },
    {
      "cell_type": "code",
      "source": [
        "len(anime_embedding_map[5]), len(user_embedding[0]), len(genre_embedding_map['Action'][0])"
      ],
      "metadata": {
        "colab": {
          "base_uri": "https://localhost:8080/"
        },
        "id": "Hp4ycB0fw_cr",
        "outputId": "7c04b178-602a-4873-fcf0-4a1239de6382"
      },
      "id": "Hp4ycB0fw_cr",
      "execution_count": 9,
      "outputs": [
        {
          "output_type": "execute_result",
          "data": {
            "text/plain": [
              "(256, 128, 128)"
            ]
          },
          "metadata": {},
          "execution_count": 9
        }
      ]
    },
    {
      "cell_type": "code",
      "source": [
        "genre_map = {}\n",
        "\n",
        "for index, row in genre_df.iterrows():\n",
        "    genre_map[int(row['MAL_ID'])] = row['Genres'].split(\", \")"
      ],
      "metadata": {
        "id": "tE9pb6D_tbZk"
      },
      "id": "tE9pb6D_tbZk",
      "execution_count": 10,
      "outputs": []
    },
    {
      "cell_type": "code",
      "source": [
        "print(type(data['user_id'][0]))"
      ],
      "metadata": {
        "colab": {
          "base_uri": "https://localhost:8080/"
        },
        "id": "XBS6ZrSZJeVp",
        "outputId": "b9aef4ab-a195-4587-deae-a5d5e0df6a21"
      },
      "id": "XBS6ZrSZJeVp",
      "execution_count": 11,
      "outputs": [
        {
          "output_type": "stream",
          "name": "stdout",
          "text": [
            "<class 'str'>\n"
          ]
        }
      ]
    },
    {
      "cell_type": "code",
      "source": [
        "train_size = 30000\n",
        "X_emb = np.zeros((train_size, 128, 256))\n",
        "y_emb = np.zeros(train_size)\n",
        "count = 0\n",
        "for i in range(len(data['user_id'])):\n",
        "  user_id, anime_id = int(data['user_id'][i]), int(data['anime_id'][i])\n",
        "  if count >= train_size:\n",
        "      break\n",
        "  if anime_id not in anime_embedding_map.keys() or user_id >= len(user_embedding):\n",
        "      continue\n",
        "  if np.allclose(float(data['rating'][i]), 0):\n",
        "      continue\n",
        "  user_embed = user_embedding[user_id]\n",
        "  anime_embed = anime_embedding_map[anime_id]\n",
        "  x_emb = np.outer(user_embed, anime_embed)\n",
        "  X_emb[count] = x_emb\n",
        "  y_emb[count] = float(data['rating'][i])\n",
        "  count += 1\n",
        "print(count)\n",
        "X_emb = np.reshape(X_emb[:count], (count, 1, 128, 256))\n",
        "print(X_emb.shape)\n",
        "y_emb = y_emb[:count]"
      ],
      "metadata": {
        "colab": {
          "base_uri": "https://localhost:8080/"
        },
        "id": "Q4KhZBbw_QpE",
        "outputId": "b70a6ab3-4fc8-4056-83c0-49b6b976887e"
      },
      "id": "Q4KhZBbw_QpE",
      "execution_count": 12,
      "outputs": [
        {
          "output_type": "stream",
          "name": "stdout",
          "text": [
            "30000\n",
            "(30000, 1, 128, 256)\n"
          ]
        }
      ]
    },
    {
      "cell_type": "code",
      "source": [
        "print(y_emb[:100])"
      ],
      "metadata": {
        "colab": {
          "base_uri": "https://localhost:8080/"
        },
        "id": "t1eMlOKMFMQD",
        "outputId": "96f9e5f4-8866-4dc1-cdc2-08140bf9fabb"
      },
      "id": "t1eMlOKMFMQD",
      "execution_count": 13,
      "outputs": [
        {
          "output_type": "stream",
          "name": "stdout",
          "text": [
            "[0.3 0.4 0.9 0.9 0.6 0.9 0.5 0.7 0.8 0.2 0.5 0.4 0.7 0.8 0.6 0.8 0.7 0.9\n",
            " 1.  0.6 0.8 0.7 0.6 0.7 0.7 0.8 0.7 0.8 1.  0.8 0.4 0.5 0.8 0.6 0.4 1.\n",
            " 0.7 0.7 0.7 0.8 0.4 0.9 0.6 1.  0.8 0.7 0.6 0.7 1.  0.6 0.9 0.6 0.9 0.8\n",
            " 1.  0.8 0.7 0.3 0.5 0.7 0.9 1.  0.5 0.5 0.7 0.8 0.8 0.8 0.6 0.7 0.6 0.7\n",
            " 0.8 0.5 0.7 0.5 0.5 0.9 0.8 0.6 0.8 0.8 0.4 0.9 0.9 0.6 1.  0.8 0.9 0.5\n",
            " 1.  0.7 0.7 1.  0.4 0.6 0.4 1.  0.7 0.6]\n"
          ]
        }
      ]
    },
    {
      "cell_type": "code",
      "source": [
        "train_size = 28000\n",
        "\n",
        "X_train, X_test, X_val, y_train, y_test, y_val = (\n",
        "    X_emb[:train_size],\n",
        "    X_emb[train_size:train_size + 1000],\n",
        "    X_emb[train_size + 1000:],\n",
        "    y_emb[:train_size],\n",
        "    y_emb[train_size:train_size + 1000],\n",
        "    y_emb[train_size + 1000:],\n",
        ")"
      ],
      "metadata": {
        "id": "iRuqSWMCl-sV"
      },
      "id": "iRuqSWMCl-sV",
      "execution_count": 14,
      "outputs": []
    },
    {
      "cell_type": "code",
      "source": [
        "import torch\n",
        "import torch.nn as nn\n",
        "import torch.nn.functional as F\n",
        "from torch.utils.data import Dataset, DataLoader, TensorDataset"
      ],
      "metadata": {
        "id": "xAd7wx325Lwu"
      },
      "id": "xAd7wx325Lwu",
      "execution_count": 15,
      "outputs": []
    },
    {
      "cell_type": "code",
      "source": [
        "device = torch.device(\"cuda\" if torch.cuda.is_available() else \"cpu\")\n",
        "print(f\"running on {device}\")"
      ],
      "metadata": {
        "colab": {
          "base_uri": "https://localhost:8080/"
        },
        "id": "7VozgDO29blT",
        "outputId": "2b3037ea-9780-4c90-b1cf-ad136c02c27b"
      },
      "id": "7VozgDO29blT",
      "execution_count": 16,
      "outputs": [
        {
          "output_type": "stream",
          "name": "stdout",
          "text": [
            "running on cuda\n"
          ]
        }
      ]
    },
    {
      "cell_type": "code",
      "source": [
        "batch_size = 128\n",
        "train_tensor = TensorDataset(torch.FloatTensor(X_train).to(device), torch.FloatTensor(y_train).view(-1,1).to(device))\n",
        "test_tensor = TensorDataset(torch.FloatTensor(X_val).to(device), torch.FloatTensor(y_val).view(-1,1).to(device))\n",
        "train_dl = DataLoader(train_tensor, batch_size=batch_size, shuffle=True)\n",
        "test_dl = DataLoader(test_tensor, batch_size=batch_size)"
      ],
      "metadata": {
        "id": "pzGF2T4l-i1y"
      },
      "id": "pzGF2T4l-i1y",
      "execution_count": 17,
      "outputs": []
    },
    {
      "cell_type": "markdown",
      "source": [
        "###ONCF###"
      ],
      "metadata": {
        "id": "aZFFBD9kO_BJ"
      },
      "id": "aZFFBD9kO_BJ"
    },
    {
      "cell_type": "code",
      "source": [
        "from torch.nn.modules.activation import Sigmoid\n",
        "class ONCF(nn.Module):\n",
        "    def __init__(self):\n",
        "        super(ONCF, self).__init__()\n",
        "        self.cnn = nn.Sequential(\n",
        "            nn.Conv2d(1, 32, 2, stride = 2),\n",
        "            nn.ReLU(),\n",
        "            nn.Dropout(0.2),\n",
        "            nn.Conv2d(32, 32, 2, stride = 2),\n",
        "            nn.ReLU(),\n",
        "            nn.Dropout(0.2),\n",
        "            nn.Conv2d(32, 32, 2, stride = 2),\n",
        "            nn.ReLU(),\n",
        "            nn.Dropout(0.2),\n",
        "            nn.Conv2d(32, 32, 2, stride = 2),\n",
        "            nn.ReLU(),\n",
        "            nn.Dropout(0.2),\n",
        "            nn.Conv2d(32, 32, 2, stride = 2),\n",
        "            nn.ReLU(),\n",
        "            nn.Dropout(0.2),\n",
        "            nn.Conv2d(32, 32, 2, stride = 2),\n",
        "            nn.ReLU(),\n",
        "            nn.Dropout(0.2)\n",
        "        )\n",
        "        self.fc = nn.Sequential(           \n",
        "            nn.Linear(32 * 2 * 4, 64),\n",
        "            nn.ReLU(),\n",
        "            nn.Linear(64, 1),\n",
        "            nn.Sigmoid())\n",
        "\n",
        "    def forward(self, x):\n",
        "        #print(x)\n",
        "        res = self.cnn(x)\n",
        "        res = torch.flatten(res, 1)\n",
        "        res = self.fc(res)\n",
        "        #print(x)\n",
        "        return res\n",
        "\n",
        "    def train_net(self, train_dl, test_dl, epochs=9):\n",
        "        self.to(device)\n",
        "        optimizer = torch.optim.Adam(self.parameters(), lr=1e-3)\n",
        "        train_loss_history = []\n",
        "        val_loss_history = []\n",
        "        for epoch in range(epochs):\n",
        "            self.train()\n",
        "            train_loss = 0\n",
        "            count = 0\n",
        "            for (data,labels) in train_dl:\n",
        "                data, labels = data.to(device), labels.to(device)\n",
        "                optimizer.zero_grad()\n",
        "                prediction = self(data)\n",
        "                loss = torch.sqrt(nn.MSELoss()(prediction, labels))\n",
        "                loss.backward()\n",
        "                optimizer.step()\n",
        "                train_loss_history.append(loss)\n",
        "                train_loss += loss\n",
        "                count += 1\n",
        "            train_loss /= count\n",
        "            self.eval()\n",
        "            test_loss = self.test(test_dl)\n",
        "            val_loss_history.append(test_loss)\n",
        "            print ('Epoch:%d, train loss: %f, validation loss: %f'%(epoch+1, train_loss, test_loss))\n",
        "        return train_loss_history, val_loss_history\n",
        "      \n",
        "    def test(self, test_dl):\n",
        "        self.eval()\n",
        "        loss = 0\n",
        "        count = 0\n",
        "        with torch.no_grad():\n",
        "            for (data,label) in test_dl:\n",
        "                data, label = data.to(device), label.to(device)\n",
        "                prediction = self(data)\n",
        "                loss += torch.sqrt(nn.MSELoss()(prediction, label))\n",
        "                count += 1\n",
        "\n",
        "        return loss / count"
      ],
      "metadata": {
        "id": "8nMu8SKvgXaq"
      },
      "id": "8nMu8SKvgXaq",
      "execution_count": 20,
      "outputs": []
    },
    {
      "cell_type": "code",
      "source": [
        "oncf = ONCF().to(device)\n",
        "train_loss_history, val_loss_history = oncf.train_net(train_dl, test_dl, epochs=100)"
      ],
      "metadata": {
        "colab": {
          "base_uri": "https://localhost:8080/"
        },
        "id": "F8mQy03Xhmax",
        "outputId": "3443f3cd-8c70-4fa0-9162-75ae232ed814"
      },
      "id": "F8mQy03Xhmax",
      "execution_count": 23,
      "outputs": [
        {
          "output_type": "stream",
          "name": "stdout",
          "text": [
            "Epoch:1, train loss: 0.189127, validation loss: 0.188396\n",
            "Epoch:2, train loss: 0.183574, validation loss: 0.188532\n",
            "Epoch:3, train loss: 0.183760, validation loss: 0.188350\n",
            "Epoch:4, train loss: 0.183849, validation loss: 0.188350\n",
            "Epoch:5, train loss: 0.183725, validation loss: 0.188253\n",
            "Epoch:6, train loss: 0.183583, validation loss: 0.187981\n",
            "Epoch:7, train loss: 0.182755, validation loss: 0.186829\n",
            "Epoch:8, train loss: 0.181977, validation loss: 0.186017\n",
            "Epoch:9, train loss: 0.180706, validation loss: 0.185294\n",
            "Epoch:10, train loss: 0.179347, validation loss: 0.183029\n",
            "Epoch:11, train loss: 0.177763, validation loss: 0.183097\n",
            "Epoch:12, train loss: 0.176980, validation loss: 0.180947\n",
            "Epoch:13, train loss: 0.175332, validation loss: 0.178648\n",
            "Epoch:14, train loss: 0.174229, validation loss: 0.177356\n",
            "Epoch:15, train loss: 0.173659, validation loss: 0.175355\n",
            "Epoch:16, train loss: 0.172428, validation loss: 0.175772\n",
            "Epoch:17, train loss: 0.171092, validation loss: 0.174294\n",
            "Epoch:18, train loss: 0.170829, validation loss: 0.173491\n",
            "Epoch:19, train loss: 0.169411, validation loss: 0.171381\n",
            "Epoch:20, train loss: 0.168864, validation loss: 0.171916\n",
            "Epoch:21, train loss: 0.168516, validation loss: 0.171807\n",
            "Epoch:22, train loss: 0.167347, validation loss: 0.170048\n",
            "Epoch:23, train loss: 0.166730, validation loss: 0.169258\n",
            "Epoch:24, train loss: 0.166319, validation loss: 0.168287\n",
            "Epoch:25, train loss: 0.165425, validation loss: 0.168273\n",
            "Epoch:26, train loss: 0.165145, validation loss: 0.167122\n",
            "Epoch:27, train loss: 0.165150, validation loss: 0.166420\n",
            "Epoch:28, train loss: 0.164457, validation loss: 0.165172\n",
            "Epoch:29, train loss: 0.163910, validation loss: 0.165514\n",
            "Epoch:30, train loss: 0.163209, validation loss: 0.165355\n",
            "Epoch:31, train loss: 0.163155, validation loss: 0.165459\n",
            "Epoch:32, train loss: 0.162915, validation loss: 0.165231\n",
            "Epoch:33, train loss: 0.162752, validation loss: 0.164669\n",
            "Epoch:34, train loss: 0.161912, validation loss: 0.164257\n",
            "Epoch:35, train loss: 0.161075, validation loss: 0.164660\n",
            "Epoch:36, train loss: 0.161255, validation loss: 0.165691\n",
            "Epoch:37, train loss: 0.161392, validation loss: 0.162800\n",
            "Epoch:38, train loss: 0.160844, validation loss: 0.162754\n",
            "Epoch:39, train loss: 0.160616, validation loss: 0.162746\n",
            "Epoch:40, train loss: 0.160417, validation loss: 0.162901\n",
            "Epoch:41, train loss: 0.159985, validation loss: 0.162925\n",
            "Epoch:42, train loss: 0.159715, validation loss: 0.162664\n",
            "Epoch:43, train loss: 0.159942, validation loss: 0.162984\n",
            "Epoch:44, train loss: 0.159683, validation loss: 0.163335\n",
            "Epoch:45, train loss: 0.159149, validation loss: 0.162736\n",
            "Epoch:46, train loss: 0.159527, validation loss: 0.162424\n",
            "Epoch:47, train loss: 0.159237, validation loss: 0.163290\n",
            "Epoch:48, train loss: 0.158651, validation loss: 0.163004\n",
            "Epoch:49, train loss: 0.158480, validation loss: 0.162510\n",
            "Epoch:50, train loss: 0.157990, validation loss: 0.163205\n",
            "Epoch:51, train loss: 0.158481, validation loss: 0.162784\n",
            "Epoch:52, train loss: 0.158053, validation loss: 0.162333\n",
            "Epoch:53, train loss: 0.157924, validation loss: 0.162366\n",
            "Epoch:54, train loss: 0.158275, validation loss: 0.163044\n",
            "Epoch:55, train loss: 0.158036, validation loss: 0.164762\n",
            "Epoch:56, train loss: 0.157511, validation loss: 0.162153\n",
            "Epoch:57, train loss: 0.157481, validation loss: 0.161905\n",
            "Epoch:58, train loss: 0.157632, validation loss: 0.162598\n",
            "Epoch:59, train loss: 0.156851, validation loss: 0.163216\n",
            "Epoch:60, train loss: 0.156909, validation loss: 0.162369\n",
            "Epoch:61, train loss: 0.157213, validation loss: 0.162755\n",
            "Epoch:62, train loss: 0.156552, validation loss: 0.162829\n",
            "Epoch:63, train loss: 0.156576, validation loss: 0.162105\n",
            "Epoch:64, train loss: 0.156701, validation loss: 0.164183\n",
            "Epoch:65, train loss: 0.156725, validation loss: 0.162822\n",
            "Epoch:66, train loss: 0.156655, validation loss: 0.161872\n",
            "Epoch:67, train loss: 0.156044, validation loss: 0.161721\n",
            "Epoch:68, train loss: 0.155926, validation loss: 0.161723\n",
            "Epoch:69, train loss: 0.156275, validation loss: 0.162697\n",
            "Epoch:70, train loss: 0.156340, validation loss: 0.163408\n",
            "Epoch:71, train loss: 0.156227, validation loss: 0.162836\n",
            "Epoch:72, train loss: 0.155821, validation loss: 0.161567\n",
            "Epoch:73, train loss: 0.155903, validation loss: 0.161548\n",
            "Epoch:74, train loss: 0.155263, validation loss: 0.161771\n",
            "Epoch:75, train loss: 0.155578, validation loss: 0.162028\n",
            "Epoch:76, train loss: 0.155961, validation loss: 0.161883\n",
            "Epoch:77, train loss: 0.155824, validation loss: 0.161937\n",
            "Epoch:78, train loss: 0.155043, validation loss: 0.162384\n",
            "Epoch:79, train loss: 0.154954, validation loss: 0.163216\n",
            "Epoch:80, train loss: 0.154687, validation loss: 0.163097\n",
            "Epoch:81, train loss: 0.154742, validation loss: 0.162854\n",
            "Epoch:82, train loss: 0.154826, validation loss: 0.161858\n",
            "Epoch:83, train loss: 0.154597, validation loss: 0.161355\n",
            "Epoch:84, train loss: 0.154691, validation loss: 0.162990\n",
            "Epoch:85, train loss: 0.155175, validation loss: 0.161940\n",
            "Epoch:86, train loss: 0.154802, validation loss: 0.163888\n",
            "Epoch:87, train loss: 0.154401, validation loss: 0.162516\n",
            "Epoch:88, train loss: 0.154806, validation loss: 0.162978\n",
            "Epoch:89, train loss: 0.154260, validation loss: 0.162453\n",
            "Epoch:90, train loss: 0.154131, validation loss: 0.162633\n",
            "Epoch:91, train loss: 0.154269, validation loss: 0.163120\n",
            "Epoch:92, train loss: 0.154639, validation loss: 0.161582\n",
            "Epoch:93, train loss: 0.154180, validation loss: 0.161188\n",
            "Epoch:94, train loss: 0.153878, validation loss: 0.162254\n",
            "Epoch:95, train loss: 0.153884, validation loss: 0.161765\n",
            "Epoch:96, train loss: 0.153734, validation loss: 0.161988\n",
            "Epoch:97, train loss: 0.154056, validation loss: 0.162014\n",
            "Epoch:98, train loss: 0.153967, validation loss: 0.162294\n",
            "Epoch:99, train loss: 0.153240, validation loss: 0.163224\n",
            "Epoch:100, train loss: 0.153670, validation loss: 0.161785\n"
          ]
        }
      ]
    },
    {
      "cell_type": "markdown",
      "source": [
        "###Loss Curve###"
      ],
      "metadata": {
        "id": "uRYfMIdYijTk"
      },
      "id": "uRYfMIdYijTk"
    },
    {
      "cell_type": "code",
      "source": [
        "import matplotlib.pyplot as plt\n",
        "\n",
        "plt.rcParams[\"figure.figsize\"] = [7.50, 3.50]\n",
        "plt.rcParams[\"figure.autolayout\"] = True\n",
        "\n",
        "temp = torch.FloatTensor(train_loss_history).to('cpu')\n",
        "val_temp = torch.FloatTensor(val_loss_history).to('cpu')\n",
        "x = range(len(temp))\n",
        "val_x = np.arange(len(val_temp)) * 220 + 250\n",
        "plt.title(\"Loss\")\n",
        "plt.plot(x, temp, color=\"green\")\n",
        "plt.plot(val_x, val_temp, color='blue')\n",
        "\n",
        "plt.show()"
      ],
      "metadata": {
        "colab": {
          "base_uri": "https://localhost:8080/",
          "height": 261
        },
        "id": "DLXHxZigt_Dn",
        "outputId": "7e42ba59-26c4-4239-9b7d-3701397e9192"
      },
      "id": "DLXHxZigt_Dn",
      "execution_count": 34,
      "outputs": [
        {
          "output_type": "display_data",
          "data": {
            "text/plain": [
              "<Figure size 540x252 with 1 Axes>"
            ],
            "image/png": "[encoded data removed]"
          },
          "metadata": {
            "needs_background": "light"
          }
        }
      ]
    },
    {
      "cell_type": "markdown",
      "source": [
        "###Test Result###"
      ],
      "metadata": {
        "id": "YTZNz1yQim8F"
      },
      "id": "YTZNz1yQim8F"
    },
    {
      "cell_type": "code",
      "source": [
        "# test_tensor = TensorDataset(torch.FloatTensor(X_val).to(device), torch.FloatTensor(y_val).view(-1,1).to(device))\n",
        "prediction = oncf.forward(torch.FloatTensor(X_test).to(device))\n",
        "loss = torch.sqrt(nn.MSELoss()(prediction, torch.FloatTensor(y_test).view(-1,1).to(device)))\n",
        "print(loss)"
      ],
      "metadata": {
        "colab": {
          "base_uri": "https://localhost:8080/"
        },
        "id": "_PZJGNqL8Bcd",
        "outputId": "77a229d1-6af8-42c5-d52a-4b125baf2698"
      },
      "id": "_PZJGNqL8Bcd",
      "execution_count": 31,
      "outputs": [
        {
          "output_type": "stream",
          "name": "stdout",
          "text": [
            "tensor(0.1582, device='cuda:0', grad_fn=<SqrtBackward0>)\n"
          ]
        }
      ]
    },
    {
      "cell_type": "markdown",
      "source": [
        "###CNN###"
      ],
      "metadata": {
        "id": "Q5TblPYLO84y"
      },
      "id": "Q5TblPYLO84y"
    },
    {
      "cell_type": "code",
      "source": [
        "from torch.nn.modules.activation import Sigmoid\n",
        "class CNN(nn.Module):\n",
        "    def __init__(self):\n",
        "        super(CNN, self).__init__()\n",
        "        self.cnn = nn.Sequential(\n",
        "            nn.Conv2d(1, 32, 3),\n",
        "            nn.ReLU(),\n",
        "            nn.MaxPool2d(2, 2),\n",
        "            nn.Dropout(0.2),\n",
        "            nn.Conv2d(32, 64, 3),\n",
        "            nn.ReLU(),\n",
        "            nn.MaxPool2d(2, 2),\n",
        "            nn.Dropout(0.2),\n",
        "            nn.Conv2d(64, 64, 3),\n",
        "            nn.ReLU(),\n",
        "            nn.Dropout(0.2),\n",
        "        )\n",
        "        self.fc = nn.Sequential(           \n",
        "            nn.Linear(64 * 28 * 60, 64),\n",
        "            nn.ReLU(),\n",
        "            nn.Linear(64, 1),\n",
        "            nn.Sigmoid())\n",
        "\n",
        "    def forward(self, x):\n",
        "        #print(x)\n",
        "        res = self.cnn(x)\n",
        "        res = torch.flatten(res, 1)\n",
        "        res = self.fc(res)\n",
        "        #print(x)\n",
        "        return res\n",
        "\n",
        "    def train_net(self, train_dl, test_dl, epochs=9):\n",
        "        self.to(device)\n",
        "        optimizer = torch.optim.Adam(self.parameters(), lr=1e-3)\n",
        "        train_loss_history = []\n",
        "        val_loss_history = []\n",
        "        for epoch in range(epochs):\n",
        "            self.train()\n",
        "            train_loss = 0\n",
        "            count = 0\n",
        "            for (data,labels) in train_dl:\n",
        "                data, labels = data.to(device), labels.to(device)\n",
        "                optimizer.zero_grad()\n",
        "                prediction = self(data)\n",
        "                loss = torch.sqrt(nn.MSELoss()(prediction, labels))\n",
        "                loss.backward()\n",
        "                optimizer.step()\n",
        "                train_loss_history.append(loss)\n",
        "                train_loss += loss\n",
        "                count += 1\n",
        "            train_loss /= count\n",
        "            self.eval()\n",
        "            test_loss = self.test(test_dl)\n",
        "            val_loss_history.append(test_loss)\n",
        "            print ('Epoch:%d, train loss: %f, validation loss: %f'%(epoch+1, train_loss, test_loss))\n",
        "        return train_loss_history, val_loss_history\n",
        "      \n",
        "    def test(self, test_dl):\n",
        "        self.eval()\n",
        "        loss = 0\n",
        "        count = 0\n",
        "        with torch.no_grad():\n",
        "            for (data,label) in test_dl:\n",
        "                data, label = data.to(device), label.to(device)\n",
        "                prediction = self(data)\n",
        "                loss += torch.sqrt(nn.MSELoss()(prediction, label))\n",
        "                count += 1\n",
        "\n",
        "        return loss / count"
      ],
      "metadata": {
        "id": "xnAbVz31Ano0"
      },
      "id": "xnAbVz31Ano0",
      "execution_count": 18,
      "outputs": []
    },
    {
      "cell_type": "code",
      "source": [
        "cnn = CNN().to(device)\n",
        "train_loss_history, val_loss_history = cnn.train_net(train_dl, test_dl, epochs=10)"
      ],
      "metadata": {
        "colab": {
          "base_uri": "https://localhost:8080/"
        },
        "id": "J3map_0UCTZ5",
        "outputId": "7ebb60a0-5ccc-4181-fe78-e019d1cf7f17"
      },
      "id": "J3map_0UCTZ5",
      "execution_count": 23,
      "outputs": [
        {
          "output_type": "stream",
          "name": "stdout",
          "text": [
            "Epoch:1, train loss: 0.187781, validation loss: 0.188449\n",
            "Epoch:2, train loss: 0.184136, validation loss: 0.188649\n",
            "Epoch:3, train loss: 0.183498, validation loss: 0.189233\n",
            "Epoch:4, train loss: 0.180994, validation loss: 0.185410\n",
            "Epoch:5, train loss: 0.178323, validation loss: 0.185402\n",
            "Epoch:6, train loss: 0.175512, validation loss: 0.181350\n",
            "Epoch:7, train loss: 0.171644, validation loss: 0.178845\n",
            "Epoch:8, train loss: 0.167239, validation loss: 0.174828\n",
            "Epoch:9, train loss: 0.162126, validation loss: 0.171457\n",
            "Epoch:10, train loss: 0.157704, validation loss: 0.170903\n"
          ]
        }
      ]
    },
    {
      "cell_type": "markdown",
      "source": [
        "###Loss Curve###"
      ],
      "metadata": {
        "id": "WtWhcUZnirJT"
      },
      "id": "WtWhcUZnirJT"
    },
    {
      "cell_type": "code",
      "source": [
        "import matplotlib.pyplot as plt\n",
        "\n",
        "plt.rcParams[\"figure.figsize\"] = [7.50, 3.50]\n",
        "plt.rcParams[\"figure.autolayout\"] = True\n",
        "\n",
        "temp = torch.FloatTensor(train_loss_history).to('cpu')\n",
        "val_temp = torch.FloatTensor(val_loss_history).to('cpu')\n",
        "x = range(len(temp))\n",
        "val_x = np.arange(len(val_temp)) * 220 + 250\n",
        "plt.title(\"Loss\")\n",
        "plt.plot(x, temp, color=\"green\")\n",
        "plt.plot(val_x, val_temp, color='blue')\n",
        "\n",
        "plt.show()"
      ],
      "metadata": {
        "colab": {
          "base_uri": "https://localhost:8080/",
          "height": 261
        },
        "id": "8TktguZkVTHp",
        "outputId": "2c1a8e3d-ba58-4cc9-884e-f585d7628a48"
      },
      "id": "8TktguZkVTHp",
      "execution_count": 24,
      "outputs": [
        {
          "output_type": "display_data",
          "data": {
            "text/plain": [
              "<Figure size 540x252 with 1 Axes>"
            ],
            "image/png": "[encoded data removed]"
          },
          "metadata": {
            "needs_background": "light"
          }
        }
      ]
    },
    {
      "cell_type": "markdown",
      "source": [
        "###Test Result###"
      ],
      "metadata": {
        "id": "a9PvTFxmitLa"
      },
      "id": "a9PvTFxmitLa"
    },
    {
      "cell_type": "code",
      "source": [
        "prediction = cnn.to('cpu').forward(torch.FloatTensor(X_test))\n",
        "loss = torch.sqrt(nn.MSELoss()(prediction, torch.FloatTensor(y_test).view(-1,1)))\n",
        "print(loss)"
      ],
      "metadata": {
        "colab": {
          "base_uri": "https://localhost:8080/"
        },
        "id": "M2tKKS_CLKoi",
        "outputId": "c150a7ea-63a5-4d15-b332-3faa6dfe2984"
      },
      "id": "M2tKKS_CLKoi",
      "execution_count": 28,
      "outputs": [
        {
          "output_type": "stream",
          "name": "stdout",
          "text": [
            "tensor(0.1654, grad_fn=<SqrtBackward0>)\n"
          ]
        }
      ]
    }
  ],
  "metadata": {
    "kernelspec": {
      "display_name": "Python 3",
      "language": "python",
      "name": "python3"
    },
    "language_info": {
      "codemirror_mode": {
        "name": "ipython",
        "version": 3
      },
      "file_extension": ".py",
      "mimetype": "text/x-python",
      "name": "python",
      "nbconvert_exporter": "python",
      "pygments_lexer": "ipython3",
      "version": "3.8.8"
    },
    "colab": {
      "name": "Final Project.ipynb",
      "provenance": [],
      "machine_shape": "hm",
      "collapsed_sections": []
    },
    "accelerator": "GPU"
  },
  "nbformat": 4,
  "nbformat_minor": 5
}