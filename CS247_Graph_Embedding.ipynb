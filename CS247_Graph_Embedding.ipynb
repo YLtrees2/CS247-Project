{
  "metadata": {
    "kernelspec": {
      "language": "python",
      "display_name": "Python 3",
      "name": "python3"
    },
    "language_info": {
      "name": "python",
      "version": "3.7.12",
      "mimetype": "text/x-python",
      "codemirror_mode": {
        "name": "ipython",
        "version": 3
      },
      "pygments_lexer": "ipython3",
      "nbconvert_exporter": "python",
      "file_extension": ".py"
    },
    "colab": {
      "name": "cs247-anime-recommendation-engine-node2vec (8).ipynb",
      "provenance": [],
      "collapsed_sections": [
        "lMHL9RmN4xMg",
        "RZMwcNMp4xMg",
        "Pdqaa03S4xM3",
        "NvZ2xtlg4xM3"
      ],
      "machine_shape": "hm"
    }
  },
  "nbformat_minor": 0,
  "nbformat": 4,
  "cells": [
    {
      "cell_type": "markdown",
      "source": [
        "# CS247 Anime Recommendation Engine - Graph Embedding\n",
        "\n",
        "This notebook serves as project for CS247 Advanced Data Mining.\n",
        "\n",
        "Group member:\n",
        "* Yiming Shi 905525611\n",
        "* Penghai Wei 105726519\n",
        "* Yongqian Li 004997466\n",
        "* Yanxun Li 005712570\n",
        "\n",
        "In this notebook we will build a recomender system using dataset **Anime Recommendation Database 2020**.\n",
        "\n",
        "The notebook contains the following serveral sections:\n",
        "* Input Processing\n",
        "* Baseline Construction\n",
        "* User Embedding based on Pointwise Mutual Information and Word2Vec"
      ],
      "metadata": {
        "id": "4tg7jdbF4xMK"
      }
    },
    {
      "cell_type": "markdown",
      "source": [
        "# Input Processing\n",
        "\n",
        "In this section, we mainly extract the basic input from \"animelist.csv\". We cleaned the data, remove duplicate data, normalized the score value, and present an overview of the rating matrix."
      ],
      "metadata": {
        "id": "IQ660PrJ4xMQ"
      }
    },
    {
      "cell_type": "code",
      "source": [
        "import numpy as np\n",
        "import pandas as pd\n",
        "\n",
        "import os\n",
        "from collections import defaultdict\n",
        "import math\n",
        "import networkx as nx\n",
        "import random\n",
        "from tqdm import tqdm\n",
        "from zipfile import ZipFile\n",
        "from urllib.request import urlretrieve\n",
        "\n",
        "import tensorflow as tf\n",
        "from tensorflow import keras\n",
        "from tensorflow.keras import layers\n",
        "import matplotlib.pyplot as plt\n",
        "import torch\n",
        "import pickle"
      ],
      "metadata": {
        "execution": {
          "iopub.status.busy": "2022-03-04T23:06:33.364903Z",
          "iopub.execute_input": "2022-03-04T23:06:33.365243Z",
          "iopub.status.idle": "2022-03-04T23:06:33.373417Z",
          "shell.execute_reply.started": "2022-03-04T23:06:33.365207Z",
          "shell.execute_reply": "2022-03-04T23:06:33.372161Z"
        },
        "trusted": true,
        "id": "dGZdvGrS4xMR"
      },
      "execution_count": null,
      "outputs": []
    },
    {
      "cell_type": "code",
      "source": [
        "from pathlib import Path\n",
        "from google.colab import drive\n",
        "drive.mount('/content/gdrive/')"
      ],
      "metadata": {
        "colab": {
          "base_uri": "https://localhost:8080/"
        },
        "id": "W7AOkwz15U8w",
        "outputId": "ba8d464b-4ea6-4b29-fe57-4a5ec931ec71"
      },
      "execution_count": null,
      "outputs": [
        {
          "output_type": "stream",
          "name": "stdout",
          "text": [
            "Mounted at /content/gdrive/\n"
          ]
        }
      ]
    },
    {
      "cell_type": "code",
      "source": [
        "DATA_DIR = Path('/content/gdrive/MyDrive/CS247/Final_Project')\n",
        "INPUT_DIR = '/content/gdrive/MyDrive/CS247/Final_Project'"
      ],
      "metadata": {
        "id": "73EDRtsR5eUr"
      },
      "execution_count": null,
      "outputs": []
    },
    {
      "cell_type": "code",
      "source": [
        "import gc\n",
        "gc.collect()"
      ],
      "metadata": {
        "execution": {
          "iopub.status.busy": "2022-03-04T23:11:09.774438Z",
          "iopub.execute_input": "2022-03-04T23:11:09.774987Z",
          "iopub.status.idle": "2022-03-04T23:11:10.186770Z",
          "shell.execute_reply.started": "2022-03-04T23:11:09.774929Z",
          "shell.execute_reply": "2022-03-04T23:11:10.185953Z"
        },
        "trusted": true,
        "colab": {
          "base_uri": "https://localhost:8080/"
        },
        "id": "i-ja6Q6D4xMX",
        "outputId": "e632671c-ade8-41a7-87b9-ce69547629e8"
      },
      "execution_count": null,
      "outputs": [
        {
          "output_type": "execute_result",
          "data": {
            "text/plain": [
              "162"
            ]
          },
          "metadata": {},
          "execution_count": 4
        }
      ]
    },
    {
      "cell_type": "code",
      "source": [
        "with open(DATA_DIR/'genre_embedding_map_small.pkl', 'rb') as f:\n",
        "    genre_embedding_map = pickle.load(f)"
      ],
      "metadata": {
        "id": "O3pPh5vb57CE"
      },
      "execution_count": null,
      "outputs": []
    },
    {
      "cell_type": "code",
      "source": [
        "rating_df = pd.read_csv('/content/gdrive/MyDrive/CS247/Final_Project/data_new.csv',\n",
        "                        #nrows=5000000,\n",
        "                        low_memory=False, \n",
        "                        usecols=[\"user_id\", \"anime_id\", \"rating\"]\n",
        "                        )"
      ],
      "metadata": {
        "id": "kpr_mTJ39U_H"
      },
      "execution_count": null,
      "outputs": []
    },
    {
      "cell_type": "markdown",
      "source": [
        "## Baseline Model"
      ],
      "metadata": {
        "id": "em6xN8oH4xMa"
      }
    },
    {
      "cell_type": "code",
      "source": [
        "# Removing Duplicated Rows\n",
        "duplicates = rating_df.duplicated()\n",
        "\n",
        "if duplicates.sum() > 0:\n",
        "    print('> {} duplicates'.format(duplicates.sum()))\n",
        "    rating_df = rating_df[~duplicates]\n",
        "\n",
        "print('> {} duplicates'.format(rating_df.duplicated().sum()))"
      ],
      "metadata": {
        "colab": {
          "base_uri": "https://localhost:8080/"
        },
        "id": "gevIpVaeSEaW",
        "outputId": "e4152dc3-c0d1-4bca-d2c2-a78cb16f6e42"
      },
      "execution_count": null,
      "outputs": [
        {
          "output_type": "stream",
          "name": "stdout",
          "text": [
            "> 0 duplicates\n"
          ]
        }
      ]
    },
    {
      "cell_type": "code",
      "source": [
        "# Quick review of our rating matrix\n",
        "g = rating_df.groupby('user_id')['rating'].count()\n",
        "top_users = g.dropna().sort_values(ascending=False)[:20]\n",
        "top_r = rating_df.join(top_users, rsuffix='_r', how='inner', on='user_id')\n",
        "\n",
        "g = rating_df.groupby('anime_id')['rating'].count()\n",
        "top_animes = g.dropna().sort_values(ascending=False)[:20]\n",
        "top_r = top_r.join(top_animes, rsuffix='_r', how='inner', on='anime_id')\n",
        "\n",
        "pd.crosstab(top_r.user_id, top_r.anime_id, top_r.rating, aggfunc=np.sum)\n",
        "\n",
        "\n",
        "# Generate Training and testing data.\n",
        "\n",
        "# Encoding categorical data\n",
        "user_ids = rating_df[\"user_id\"].unique().tolist()\n",
        "user2user_encoded = {x: i for i, x in enumerate(user_ids)}\n",
        "user_encoded2user = {i: x for i, x in enumerate(user_ids)}\n",
        "rating_df[\"user\"] = rating_df[\"user_id\"].map(user2user_encoded)\n",
        "n_users = len(user2user_encoded)\n",
        "\n",
        "anime_ids = rating_df[\"anime_id\"].unique().tolist()\n",
        "anime2anime_encoded = {x: i for i, x in enumerate(anime_ids)}\n",
        "anime_encoded2anime = {i: x for i, x in enumerate(anime_ids)}\n",
        "rating_df[\"anime\"] = rating_df[\"anime_id\"].map(anime2anime_encoded)\n",
        "n_animes = len(anime2anime_encoded)\n",
        "\n",
        "print(\"Num of users: {}, Num of animes: {}\".format(n_users, n_animes))\n",
        "print(\"Min rating: {}, Max rating: {}\".format(min(rating_df['rating']), max(rating_df['rating'])))\n",
        "\n",
        "\n",
        "\n",
        "\n",
        "\n",
        "\n",
        "\n",
        "X = rating_df[['user', 'anime']].values\n",
        "y = rating_df[\"rating\"]\n",
        "\n",
        "\n",
        "\n",
        "\n",
        "\n",
        "\n",
        "# Split\n",
        "test_set_size = 1000 #1k for test set\n",
        "train_indices = rating_df.shape[0] - test_set_size \n",
        "test_indicies = rating_df.shape[0] - test_set_size \n",
        "\n",
        "X_train, X_test, y_train, y_test = (\n",
        "    X[:train_indices],\n",
        "    X[test_indicies:],\n",
        "    y[:train_indices],\n",
        "    y[test_indicies:],\n",
        ")\n",
        "\n",
        "print('> Train set ratings: {}'.format(len(y_train)))\n",
        "print('> Test set ratings: {}'.format(len(y_test)))\n",
        "\n",
        "\n",
        "\n",
        "\n",
        "\n",
        "# set the training and testing array\n",
        "X_train_array = [X_train[:, 0], X_train[:, 1]]\n",
        "X_test_array = [X_test[:, 0], X_test[:, 1]]\n",
        "\n",
        "\n",
        "\n",
        "\n",
        "\n",
        "# Setup TPU\n",
        "import tensorflow as tf\n",
        "\n",
        "TPU_INIT = False\n",
        "\n",
        "if TPU_INIT:\n",
        "    tpu = tf.distribute.cluster_resolver.TPUClusterResolver.connect()\n",
        "    tpu_strategy = tf.distribute.experimental.TPUStrategy(tpu)\n",
        "else:\n",
        "    !nvidia-smi\n",
        "    \n",
        "print(tf.__version__)"
      ],
      "metadata": {
        "colab": {
          "base_uri": "https://localhost:8080/"
        },
        "id": "76Kvc0_cSGXi",
        "outputId": "91c8c811-7e03-45a2-ade0-f18fb2efb9aa"
      },
      "execution_count": null,
      "outputs": [
        {
          "output_type": "stream",
          "name": "stdout",
          "text": [
            "Num of users: 7826, Num of animes: 15828\n",
            "Min rating: 0.0, Max rating: 1.0\n",
            "> Train set ratings: 4708362\n",
            "> Test set ratings: 1000\n",
            "NVIDIA-SMI has failed because it couldn't communicate with the NVIDIA driver. Make sure that the latest NVIDIA driver is installed and running.\n",
            "\n",
            "2.8.0\n"
          ]
        }
      ]
    },
    {
      "cell_type": "code",
      "source": [
        "import keras\n",
        "from keras import layers \n",
        "import tensorflow as tf\n",
        "from keras.models import Model\n",
        "from tensorflow.keras.optimizers import Adam\n",
        "from keras.layers import Add, Activation, Lambda, BatchNormalization, Concatenate, Dropout, Input, Embedding, Dot, Reshape, Dense, Flatten\n",
        "\n",
        "def BaselineNet():\n",
        "    embedding_size = 128\n",
        "    \n",
        "    user = Input(name = 'user', shape = [1])\n",
        "    user_embedding = Embedding(name = 'user_embedding',\n",
        "                       input_dim = n_users, \n",
        "                       output_dim = embedding_size)(user)\n",
        "    \n",
        "    anime = Input(name = 'anime', shape = [1])\n",
        "    anime_embedding = Embedding(name = 'anime_embedding',\n",
        "                       input_dim = n_animes, \n",
        "                       output_dim = embedding_size)(anime)\n",
        "    \n",
        "    x = Dot(name = 'dot_product', normalize = True, axes = 2)([user_embedding, anime_embedding])\n",
        "    x = Flatten()(x)\n",
        "    x = Dense(1, kernel_initializer='he_normal')(x)\n",
        "    x = BatchNormalization()(x)\n",
        "    x = Activation(\"sigmoid\")(x)\n",
        "    \n",
        "    model = Model(inputs=[user, anime], outputs=x)\n",
        "    model.compile(loss='binary_crossentropy', metrics=[\"mae\", \"mse\"], optimizer='Adam')\n",
        "    \n",
        "    return model\n",
        "\n",
        "if TPU_INIT:    \n",
        "    with tpu_strategy.scope():\n",
        "        model = BaselineNet()\n",
        "else:\n",
        "    model = BaselineNet()\n",
        "\n",
        "model.summary()"
      ],
      "metadata": {
        "execution": {
          "iopub.status.busy": "2022-03-04T03:29:57.231538Z",
          "iopub.execute_input": "2022-03-04T03:29:57.232092Z",
          "iopub.status.idle": "2022-03-04T03:29:57.712144Z",
          "shell.execute_reply.started": "2022-03-04T03:29:57.232037Z",
          "shell.execute_reply": "2022-03-04T03:29:57.71125Z"
        },
        "trusted": true,
        "colab": {
          "base_uri": "https://localhost:8080/"
        },
        "id": "TEh6vg-W4xMa",
        "outputId": "0afa6b11-1989-4f82-9334-d58398b5042e"
      },
      "execution_count": null,
      "outputs": [
        {
          "output_type": "stream",
          "name": "stdout",
          "text": [
            "Model: \"model\"\n",
            "__________________________________________________________________________________________________\n",
            " Layer (type)                   Output Shape         Param #     Connected to                     \n",
            "==================================================================================================\n",
            " user (InputLayer)              [(None, 1)]          0           []                               \n",
            "                                                                                                  \n",
            " anime (InputLayer)             [(None, 1)]          0           []                               \n",
            "                                                                                                  \n",
            " user_embedding (Embedding)     (None, 1, 128)       1001728     ['user[0][0]']                   \n",
            "                                                                                                  \n",
            " anime_embedding (Embedding)    (None, 1, 128)       2025984     ['anime[0][0]']                  \n",
            "                                                                                                  \n",
            " dot_product (Dot)              (None, 1, 1)         0           ['user_embedding[0][0]',         \n",
            "                                                                  'anime_embedding[0][0]']        \n",
            "                                                                                                  \n",
            " flatten (Flatten)              (None, 1)            0           ['dot_product[0][0]']            \n",
            "                                                                                                  \n",
            " dense (Dense)                  (None, 1)            2           ['flatten[0][0]']                \n",
            "                                                                                                  \n",
            " batch_normalization (BatchNorm  (None, 1)           4           ['dense[0][0]']                  \n",
            " alization)                                                                                       \n",
            "                                                                                                  \n",
            " activation (Activation)        (None, 1)            0           ['batch_normalization[0][0]']    \n",
            "                                                                                                  \n",
            "==================================================================================================\n",
            "Total params: 3,027,718\n",
            "Trainable params: 3,027,716\n",
            "Non-trainable params: 2\n",
            "__________________________________________________________________________________________________\n"
          ]
        }
      ]
    },
    {
      "cell_type": "code",
      "source": [
        "# Callbacks\n",
        "from tensorflow.keras.callbacks import Callback, ModelCheckpoint, LearningRateScheduler, TensorBoard, EarlyStopping, ReduceLROnPlateau\n",
        "\n",
        "start_lr = 0.00001\n",
        "min_lr = 0.00001\n",
        "max_lr = 0.00005\n",
        "batch_size = 10000\n",
        "\n",
        "if TPU_INIT:\n",
        "    max_lr = max_lr * tpu_strategy.num_replicas_in_sync\n",
        "    batch_size = batch_size * tpu_strategy.num_replicas_in_sync\n",
        "\n",
        "rampup_epochs = 5\n",
        "sustain_epochs = 0\n",
        "exp_decay = .8\n",
        "\n",
        "def lrfn(epoch):\n",
        "    if epoch < rampup_epochs:\n",
        "        return (max_lr - start_lr)/rampup_epochs * epoch + start_lr\n",
        "    elif epoch < rampup_epochs + sustain_epochs:\n",
        "        return max_lr\n",
        "    else:\n",
        "        return (max_lr - min_lr) * exp_decay**(epoch-rampup_epochs-sustain_epochs) + min_lr\n",
        "\n",
        "\n",
        "lr_callback = LearningRateScheduler(lambda epoch: lrfn(epoch), verbose=0)\n",
        "\n",
        "checkpoint_filepath = './weights.h5'\n",
        "\n",
        "model_checkpoints = ModelCheckpoint(filepath=checkpoint_filepath,\n",
        "                                        save_weights_only=True,\n",
        "                                        monitor='val_loss',\n",
        "                                        mode='min',\n",
        "                                        save_best_only=True)\n",
        "\n",
        "early_stopping = EarlyStopping(patience = 3, monitor='val_loss', \n",
        "                               mode='min', restore_best_weights=True)\n",
        "\n",
        "my_callbacks = [\n",
        "    model_checkpoints,\n",
        "    lr_callback,\n",
        "    #early_stopping,   \n",
        "]"
      ],
      "metadata": {
        "execution": {
          "iopub.status.busy": "2022-03-03T19:22:26.410931Z",
          "iopub.execute_input": "2022-03-03T19:22:26.411943Z",
          "iopub.status.idle": "2022-03-03T19:22:26.431089Z",
          "shell.execute_reply.started": "2022-03-03T19:22:26.411885Z",
          "shell.execute_reply": "2022-03-03T19:22:26.429808Z"
        },
        "trusted": true,
        "id": "Ds3Lj9Ew4xMa"
      },
      "execution_count": null,
      "outputs": []
    },
    {
      "cell_type": "code",
      "source": [
        "# Model training\n",
        "history = model.fit(\n",
        "    x=X_train_array,\n",
        "    y=y_train,\n",
        "    batch_size=batch_size,\n",
        "    epochs=20,\n",
        "    verbose=1,\n",
        "    validation_data=(X_test_array, y_test),\n",
        "    callbacks=my_callbacks\n",
        ")\n",
        "\n",
        "model.load_weights(checkpoint_filepath)"
      ],
      "metadata": {
        "execution": {
          "iopub.status.busy": "2022-03-03T19:22:34.293064Z",
          "iopub.execute_input": "2022-03-03T19:22:34.29358Z",
          "iopub.status.idle": "2022-03-03T19:27:57.608746Z",
          "shell.execute_reply.started": "2022-03-03T19:22:34.293546Z",
          "shell.execute_reply": "2022-03-03T19:27:57.607669Z"
        },
        "trusted": true,
        "colab": {
          "base_uri": "https://localhost:8080/"
        },
        "id": "a1NC8SHp4xMb",
        "outputId": "45b99798-78ae-4cdf-b69a-959c12cad5b0"
      },
      "execution_count": null,
      "outputs": [
        {
          "output_type": "stream",
          "name": "stdout",
          "text": [
            "Epoch 1/20\n",
            "471/471 [==============================] - 24s 49ms/step - loss: 0.7511 - mae: 0.3158 - mse: 0.1397 - val_loss: 0.7046 - val_mae: 0.2984 - val_mse: 0.1197 - lr: 1.0000e-05\n",
            "Epoch 2/20\n",
            "471/471 [==============================] - 24s 52ms/step - loss: 0.7475 - mae: 0.3140 - mse: 0.1382 - val_loss: 0.7460 - val_mae: 0.3141 - val_mse: 0.1374 - lr: 1.8000e-05\n",
            "Epoch 3/20\n",
            "471/471 [==============================] - 21s 44ms/step - loss: 0.7416 - mae: 0.3111 - mse: 0.1357 - val_loss: 0.7444 - val_mae: 0.3130 - val_mse: 0.1368 - lr: 2.6000e-05\n",
            "Epoch 4/20\n",
            "471/471 [==============================] - 25s 53ms/step - loss: 0.7337 - mae: 0.3070 - mse: 0.1323 - val_loss: 0.7394 - val_mae: 0.3105 - val_mse: 0.1347 - lr: 3.4000e-05\n",
            "Epoch 5/20\n",
            "471/471 [==============================] - 21s 45ms/step - loss: 0.7233 - mae: 0.3015 - mse: 0.1278 - val_loss: 0.7319 - val_mae: 0.3063 - val_mse: 0.1314 - lr: 4.2000e-05\n",
            "Epoch 6/20\n",
            "471/471 [==============================] - 21s 44ms/step - loss: 0.7090 - mae: 0.2936 - mse: 0.1214 - val_loss: 0.7181 - val_mae: 0.2980 - val_mse: 0.1252 - lr: 5.0000e-05\n",
            "Epoch 7/20\n",
            "471/471 [==============================] - 21s 44ms/step - loss: 0.6891 - mae: 0.2819 - mse: 0.1122 - val_loss: 0.6986 - val_mae: 0.2861 - val_mse: 0.1160 - lr: 4.2000e-05\n",
            "Epoch 8/20\n",
            "471/471 [==============================] - 20s 43ms/step - loss: 0.6662 - mae: 0.2672 - mse: 0.1015 - val_loss: 0.6751 - val_mae: 0.2702 - val_mse: 0.1050 - lr: 3.5600e-05\n",
            "Epoch 9/20\n",
            "471/471 [==============================] - 20s 43ms/step - loss: 0.6430 - mae: 0.2511 - mse: 0.0906 - val_loss: 0.6521 - val_mae: 0.2541 - val_mse: 0.0942 - lr: 3.0480e-05\n",
            "Epoch 10/20\n",
            "471/471 [==============================] - 25s 52ms/step - loss: 0.6233 - mae: 0.2364 - mse: 0.0814 - val_loss: 0.6333 - val_mae: 0.2402 - val_mse: 0.0857 - lr: 2.6384e-05\n",
            "Epoch 11/20\n",
            "471/471 [==============================] - 21s 45ms/step - loss: 0.6084 - mae: 0.2245 - mse: 0.0747 - val_loss: 0.6194 - val_mae: 0.2297 - val_mse: 0.0794 - lr: 2.3107e-05\n",
            "Epoch 12/20\n",
            "471/471 [==============================] - 20s 43ms/step - loss: 0.5975 - mae: 0.2154 - mse: 0.0698 - val_loss: 0.6092 - val_mae: 0.2219 - val_mse: 0.0750 - lr: 2.0486e-05\n",
            "Epoch 13/20\n",
            "471/471 [==============================] - 20s 43ms/step - loss: 0.5895 - mae: 0.2085 - mse: 0.0663 - val_loss: 0.6015 - val_mae: 0.2160 - val_mse: 0.0716 - lr: 1.8389e-05\n",
            "Epoch 14/20\n",
            "471/471 [==============================] - 20s 43ms/step - loss: 0.5834 - mae: 0.2032 - mse: 0.0637 - val_loss: 0.5955 - val_mae: 0.2113 - val_mse: 0.0691 - lr: 1.6711e-05\n",
            "Epoch 15/20\n",
            "471/471 [==============================] - 20s 43ms/step - loss: 0.5786 - mae: 0.1989 - mse: 0.0617 - val_loss: 0.5908 - val_mae: 0.2075 - val_mse: 0.0671 - lr: 1.5369e-05\n",
            "Epoch 16/20\n",
            "471/471 [==============================] - 20s 43ms/step - loss: 0.5747 - mae: 0.1954 - mse: 0.0601 - val_loss: 0.5869 - val_mae: 0.2043 - val_mse: 0.0655 - lr: 1.4295e-05\n",
            "Epoch 17/20\n",
            "471/471 [==============================] - 20s 43ms/step - loss: 0.5714 - mae: 0.1925 - mse: 0.0588 - val_loss: 0.5836 - val_mae: 0.2016 - val_mse: 0.0642 - lr: 1.3436e-05\n",
            "Epoch 18/20\n",
            "471/471 [==============================] - 20s 43ms/step - loss: 0.5686 - mae: 0.1899 - mse: 0.0576 - val_loss: 0.5808 - val_mae: 0.1992 - val_mse: 0.0630 - lr: 1.2749e-05\n",
            "Epoch 19/20\n",
            "471/471 [==============================] - 20s 43ms/step - loss: 0.5662 - mae: 0.1877 - mse: 0.0567 - val_loss: 0.5783 - val_mae: 0.1972 - val_mse: 0.0621 - lr: 1.2199e-05\n",
            "Epoch 20/20\n",
            "471/471 [==============================] - 20s 43ms/step - loss: 0.5640 - mae: 0.1857 - mse: 0.0558 - val_loss: 0.5761 - val_mae: 0.1953 - val_mse: 0.0612 - lr: 1.1759e-05\n"
          ]
        }
      ]
    },
    {
      "cell_type": "code",
      "source": [
        "#Training results\n",
        "import matplotlib.pyplot as plt\n",
        "%matplotlib inline\n",
        "\n",
        "plt.plot(history.history[\"loss\"][0:-2])\n",
        "plt.plot(history.history[\"val_loss\"][0:-2])\n",
        "plt.title(\"model loss\")\n",
        "plt.ylabel(\"loss\")\n",
        "plt.xlabel(\"epoch\")\n",
        "plt.legend([\"train\", \"test\"], loc=\"upper left\")\n",
        "plt.show()"
      ],
      "metadata": {
        "execution": {
          "iopub.status.busy": "2022-03-03T19:27:58.35201Z",
          "iopub.execute_input": "2022-03-03T19:27:58.352321Z",
          "iopub.status.idle": "2022-03-03T19:27:58.600068Z",
          "shell.execute_reply.started": "2022-03-03T19:27:58.352271Z",
          "shell.execute_reply": "2022-03-03T19:27:58.598859Z"
        },
        "trusted": true,
        "colab": {
          "base_uri": "https://localhost:8080/",
          "height": 295
        },
        "id": "WdUKAfo-4xMb",
        "outputId": "fe93806f-f43b-4a0f-a831-ad722cf4207a"
      },
      "execution_count": null,
      "outputs": [
        {
          "output_type": "display_data",
          "data": {
            "image/png": "[encoded data removed]",
            "text/plain": [
              "<Figure size 432x288 with 1 Axes>"
            ]
          },
          "metadata": {
            "needs_background": "light"
          }
        }
      ]
    },
    {
      "cell_type": "markdown",
      "source": [
        "# Graph Embedding on User"
      ],
      "metadata": {
        "id": "LBAZVPjL4xMh"
      }
    },
    {
      "cell_type": "markdown",
      "source": [
        "## Generating User embeddings\n"
      ],
      "metadata": {
        "id": "uevhNAUb4xMh"
      }
    },
    {
      "cell_type": "code",
      "source": [
        "# Visualize the dataset\n",
        "rating_df.head()"
      ],
      "metadata": {
        "execution": {
          "iopub.status.busy": "2022-03-04T03:22:15.443309Z",
          "iopub.execute_input": "2022-03-04T03:22:15.443961Z",
          "iopub.status.idle": "2022-03-04T03:22:15.451316Z",
          "shell.execute_reply.started": "2022-03-04T03:22:15.44388Z",
          "shell.execute_reply": "2022-03-04T03:22:15.450372Z"
        },
        "trusted": true,
        "colab": {
          "base_uri": "https://localhost:8080/",
          "height": 202
        },
        "id": "A3UqoFAQ4xMi",
        "outputId": "8a2c117f-1bc8-4204-8110-971b4e76e40f"
      },
      "execution_count": null,
      "outputs": [
        {
          "output_type": "execute_result",
          "data": {
            "text/html": [
              "\n",
              "  <div id=\"df-a5503115-4ff0-4c73-8831-46119ba4d380\">\n",
              "    <div class=\"colab-df-container\">\n",
              "      <div>\n",
              "<style scoped>\n",
              "    .dataframe tbody tr th:only-of-type {\n",
              "        vertical-align: middle;\n",
              "    }\n",
              "\n",
              "    .dataframe tbody tr th {\n",
              "        vertical-align: top;\n",
              "    }\n",
              "\n",
              "    .dataframe thead th {\n",
              "        text-align: right;\n",
              "    }\n",
              "</style>\n",
              "<table border=\"1\" class=\"dataframe\">\n",
              "  <thead>\n",
              "    <tr style=\"text-align: right;\">\n",
              "      <th></th>\n",
              "      <th>user_id</th>\n",
              "      <th>anime_id</th>\n",
              "      <th>rating</th>\n",
              "      <th>user</th>\n",
              "      <th>anime</th>\n",
              "    </tr>\n",
              "  </thead>\n",
              "  <tbody>\n",
              "    <tr>\n",
              "      <th>0</th>\n",
              "      <td>259419</td>\n",
              "      <td>30187</td>\n",
              "      <td>0.9</td>\n",
              "      <td>0</td>\n",
              "      <td>0</td>\n",
              "    </tr>\n",
              "    <tr>\n",
              "      <th>1</th>\n",
              "      <td>36365</td>\n",
              "      <td>32946</td>\n",
              "      <td>0.3</td>\n",
              "      <td>1</td>\n",
              "      <td>1</td>\n",
              "    </tr>\n",
              "    <tr>\n",
              "      <th>2</th>\n",
              "      <td>141167</td>\n",
              "      <td>21995</td>\n",
              "      <td>0.5</td>\n",
              "      <td>2</td>\n",
              "      <td>2</td>\n",
              "    </tr>\n",
              "    <tr>\n",
              "      <th>3</th>\n",
              "      <td>350981</td>\n",
              "      <td>139</td>\n",
              "      <td>0.0</td>\n",
              "      <td>3</td>\n",
              "      <td>3</td>\n",
              "    </tr>\n",
              "    <tr>\n",
              "      <th>4</th>\n",
              "      <td>325260</td>\n",
              "      <td>27899</td>\n",
              "      <td>0.7</td>\n",
              "      <td>4</td>\n",
              "      <td>4</td>\n",
              "    </tr>\n",
              "  </tbody>\n",
              "</table>\n",
              "</div>\n",
              "      <button class=\"colab-df-convert\" onclick=\"convertToInteractive('df-a5503115-4ff0-4c73-8831-46119ba4d380')\"\n",
              "              title=\"Convert this dataframe to an interactive table.\"\n",
              "              style=\"display:none;\">\n",
              "        \n",
              "  <svg xmlns=\"http://www.w3.org/2000/svg\" height=\"24px\"viewBox=\"0 0 24 24\"\n",
              "       width=\"24px\">\n",
              "    <path d=\"M0 0h24v24H0V0z\" fill=\"none\"/>\n",
              "    <path d=\"M18.56 5.44l.94 2.06.94-2.06 2.06-.94-2.06-.94-.94-2.06-.94 2.06-2.06.94zm-11 1L8.5 8.5l.94-2.06 2.06-.94-2.06-.94L8.5 2.5l-.94 2.06-2.06.94zm10 10l.94 2.06.94-2.06 2.06-.94-2.06-.94-.94-2.06-.94 2.06-2.06.94z\"/><path d=\"M17.41 7.96l-1.37-1.37c-.4-.4-.92-.59-1.43-.59-.52 0-1.04.2-1.43.59L10.3 9.45l-7.72 7.72c-.78.78-.78 2.05 0 2.83L4 21.41c.39.39.9.59 1.41.59.51 0 1.02-.2 1.41-.59l7.78-7.78 2.81-2.81c.8-.78.8-2.07 0-2.86zM5.41 20L4 18.59l7.72-7.72 1.47 1.35L5.41 20z\"/>\n",
              "  </svg>\n",
              "      </button>\n",
              "      \n",
              "  <style>\n",
              "    .colab-df-container {\n",
              "      display:flex;\n",
              "      flex-wrap:wrap;\n",
              "      gap: 12px;\n",
              "    }\n",
              "\n",
              "    .colab-df-convert {\n",
              "      background-color: #E8F0FE;\n",
              "      border: none;\n",
              "      border-radius: 50%;\n",
              "      cursor: pointer;\n",
              "      display: none;\n",
              "      fill: #1967D2;\n",
              "      height: 32px;\n",
              "      padding: 0 0 0 0;\n",
              "      width: 32px;\n",
              "    }\n",
              "\n",
              "    .colab-df-convert:hover {\n",
              "      background-color: #E2EBFA;\n",
              "      box-shadow: 0px 1px 2px rgba(60, 64, 67, 0.3), 0px 1px 3px 1px rgba(60, 64, 67, 0.15);\n",
              "      fill: #174EA6;\n",
              "    }\n",
              "\n",
              "    [theme=dark] .colab-df-convert {\n",
              "      background-color: #3B4455;\n",
              "      fill: #D2E3FC;\n",
              "    }\n",
              "\n",
              "    [theme=dark] .colab-df-convert:hover {\n",
              "      background-color: #434B5C;\n",
              "      box-shadow: 0px 1px 3px 1px rgba(0, 0, 0, 0.15);\n",
              "      filter: drop-shadow(0px 1px 2px rgba(0, 0, 0, 0.3));\n",
              "      fill: #FFFFFF;\n",
              "    }\n",
              "  </style>\n",
              "\n",
              "      <script>\n",
              "        const buttonEl =\n",
              "          document.querySelector('#df-a5503115-4ff0-4c73-8831-46119ba4d380 button.colab-df-convert');\n",
              "        buttonEl.style.display =\n",
              "          google.colab.kernel.accessAllowed ? 'block' : 'none';\n",
              "\n",
              "        async function convertToInteractive(key) {\n",
              "          const element = document.querySelector('#df-a5503115-4ff0-4c73-8831-46119ba4d380');\n",
              "          const dataTable =\n",
              "            await google.colab.kernel.invokeFunction('convertToInteractive',\n",
              "                                                     [key], {});\n",
              "          if (!dataTable) return;\n",
              "\n",
              "          const docLinkHtml = 'Like what you see? Visit the ' +\n",
              "            '<a target=\"_blank\" href=https://colab.research.google.com/notebooks/data_table.ipynb>data table notebook</a>'\n",
              "            + ' to learn more about interactive tables.';\n",
              "          element.innerHTML = '';\n",
              "          dataTable['output_type'] = 'display_data';\n",
              "          await google.colab.output.renderOutput(dataTable, element);\n",
              "          const docLink = document.createElement('div');\n",
              "          docLink.innerHTML = docLinkHtml;\n",
              "          element.appendChild(docLink);\n",
              "        }\n",
              "      </script>\n",
              "    </div>\n",
              "  </div>\n",
              "  "
            ],
            "text/plain": [
              "   user_id  anime_id  rating  user  anime\n",
              "0   259419     30187     0.9     0      0\n",
              "1    36365     32946     0.3     1      1\n",
              "2   141167     21995     0.5     2      2\n",
              "3   350981       139     0.0     3      3\n",
              "4   325260     27899     0.7     4      4"
            ]
          },
          "metadata": {},
          "execution_count": 11
        }
      ]
    },
    {
      "cell_type": "markdown",
      "source": [
        "We currently choose to define ratings $\\geq 0.8$ as high ratings. This threshold can change."
      ],
      "metadata": {
        "id": "CAMhxIuJ2q_v"
      }
    },
    {
      "cell_type": "code",
      "source": [
        "# High ratings threshold\n",
        "min_rating = 0.8\n",
        "\n",
        "pair_frequency = defaultdict(int)\n",
        "item_frequency = defaultdict(int)\n",
        "\n",
        "# Filter instances where rating is greater than or equal to min_rating.\n",
        "\n",
        "high_rating = (rating_df)[rating_df.rating >= min_rating]\n",
        "# Use the following line instead if the computational resources are relatively limited\n",
        "#high_rating = (rating_df.sample(1000000))[rating_df.rating >= min_rating]\n"
      ],
      "metadata": {
        "id": "krnklMeBx9Vy"
      },
      "execution_count": null,
      "outputs": []
    },
    {
      "cell_type": "code",
      "source": [
        "min_rating = 0.8\n",
        "pair_frequency = defaultdict(int)\n",
        "item_frequency = defaultdict(int)\n",
        "\n",
        "# Filter instances where rating is greater than or equal to min_rating.\n",
        "high_rating = (rating_df)[rating_df.rating >= min_rating]\n",
        "\n",
        "len(high_rating)\n",
        "\n",
        "\n"
      ],
      "metadata": {
        "execution": {
          "iopub.status.busy": "2022-03-04T23:11:47.129369Z",
          "iopub.execute_input": "2022-03-04T23:11:47.129807Z",
          "iopub.status.idle": "2022-03-04T23:12:17.955771Z",
          "shell.execute_reply.started": "2022-03-04T23:11:47.129774Z",
          "shell.execute_reply": "2022-03-04T23:12:17.954729Z"
        },
        "trusted": true,
        "colab": {
          "base_uri": "https://localhost:8080/"
        },
        "id": "YBo2CInR4xMi",
        "outputId": "c1f4962f-f920-4df3-f5c5-cf291c1747a1"
      },
      "execution_count": null,
      "outputs": [
        {
          "output_type": "execute_result",
          "data": {
            "text/plain": [
              "1388667"
            ]
          },
          "metadata": {},
          "execution_count": 56
        }
      ]
    },
    {
      "cell_type": "code",
      "source": [
        "gc.collect()"
      ],
      "metadata": {
        "execution": {
          "iopub.status.busy": "2022-03-04T23:35:35.766724Z",
          "iopub.execute_input": "2022-03-04T23:35:35.767297Z",
          "iopub.status.idle": "2022-03-04T23:35:39.102364Z",
          "shell.execute_reply.started": "2022-03-04T23:35:35.767246Z",
          "shell.execute_reply": "2022-03-04T23:35:39.101267Z"
        },
        "trusted": true,
        "colab": {
          "base_uri": "https://localhost:8080/"
        },
        "id": "wQMqVZgR4xMj",
        "outputId": "aa03b539-c23a-41f1-acaf-9114561b4c98"
      },
      "execution_count": null,
      "outputs": [
        {
          "output_type": "execute_result",
          "data": {
            "text/plain": [
              "5410"
            ]
          },
          "metadata": {},
          "execution_count": 57
        }
      ]
    },
    {
      "cell_type": "code",
      "source": [
        "#pair_frequency = np.zeros([n_users, n_users]) # to ensure all users are included in the embedding generation\n",
        "\n",
        "#Step 1: create the weighted edges between animes.\n",
        "#min_rating = 5\n",
        "\n",
        "pair_frequency = defaultdict(int)\n",
        "item_frequency = defaultdict(int)\n",
        "\n",
        "# Filter instances where rating is greater than or equal to min_rating.\n",
        "#rated_movies = ratings[ratings.rating >= min_rating]\n",
        "# Group instances by user.\n",
        "#animes_grouped_by_users = list(rating_df.groupby(\"user_id\"))\n",
        "users_grouped_by_animes = list(high_rating.groupby(\"anime\"))\n",
        "for group in tqdm(\n",
        "    users_grouped_by_animes,\n",
        "    position=0,\n",
        "    leave=True,\n",
        "    desc=\"Compute rating frequencies\",\n",
        "):\n",
        "    # Get a list\n",
        "    #current_animes = list(group[1][\"anime_id\"])\n",
        "    current_users = list(group[1][\"user\"])\n",
        "\n",
        "    for i in range(len(current_users)):\n",
        "        item_frequency[current_users[i]] += 1\n",
        "        for j in range(i + 1, len(current_users)):\n",
        "            x = min(current_users[i], current_users[j])\n",
        "            y = max(current_users[i], current_users[j])\n",
        "            pair_frequency[(x, y)] += 1"
      ],
      "metadata": {
        "execution": {
          "iopub.status.busy": "2022-03-04T23:13:03.852029Z",
          "iopub.execute_input": "2022-03-04T23:13:03.852351Z",
          "iopub.status.idle": "2022-03-04T23:13:57.631131Z",
          "shell.execute_reply.started": "2022-03-04T23:13:03.852318Z",
          "shell.execute_reply": "2022-03-04T23:13:57.630210Z"
        },
        "trusted": true,
        "colab": {
          "base_uri": "https://localhost:8080/"
        },
        "id": "f2-ChLB44xMk",
        "outputId": "4cb3fd53-aa53-4da4-d036-3a538301999e"
      },
      "execution_count": null,
      "outputs": [
        {
          "output_type": "stream",
          "name": "stderr",
          "text": [
            "Compute rating frequencies: 100%|██████████| 13924/13924 [13:15<00:00, 17.49it/s]  \n"
          ]
        }
      ]
    },
    {
      "cell_type": "code",
      "source": [
        "#high_rating_subset.head()\n",
        "#pair_frequency[0:5]"
      ],
      "metadata": {
        "execution": {
          "iopub.status.busy": "2022-03-04T12:13:27.092506Z",
          "iopub.execute_input": "2022-03-04T12:13:27.093623Z",
          "iopub.status.idle": "2022-03-04T12:13:27.117956Z",
          "shell.execute_reply.started": "2022-03-04T12:13:27.093527Z",
          "shell.execute_reply": "2022-03-04T12:13:27.116912Z"
        },
        "trusted": true,
        "id": "r4KUEf1S4xMk"
      },
      "execution_count": null,
      "outputs": []
    },
    {
      "cell_type": "code",
      "source": [
        "#max(rating_df[\"user\"])\n",
        "#idx_pairs_list = [] # to ensure all users are included in the embedding generation\n",
        "#for i in range(n_users):\n",
        "  #idx_pairs_list += [(i,j) for j in range(i + 1, n_users)]"
      ],
      "metadata": {
        "execution": {
          "iopub.status.busy": "2022-03-04T04:25:13.65352Z",
          "iopub.execute_input": "2022-03-04T04:25:13.653774Z",
          "iopub.status.idle": "2022-03-04T04:25:23.71997Z",
          "shell.execute_reply.started": "2022-03-04T04:25:13.653745Z",
          "shell.execute_reply": "2022-03-04T04:25:23.718992Z"
        },
        "trusted": true,
        "id": "NHgeDiB34xMk"
      },
      "execution_count": null,
      "outputs": []
    },
    {
      "cell_type": "code",
      "source": [
        "# Group instances by user.\n",
        "#animes_grouped_by_users = list(high_rating.groupby(\"user\"))\n",
        "#num_users = len(animes_grouped_by_users)"
      ],
      "metadata": {
        "execution": {
          "iopub.status.busy": "2022-03-04T04:39:09.287756Z",
          "iopub.execute_input": "2022-03-04T04:39:09.28809Z",
          "iopub.status.idle": "2022-03-04T04:39:16.212741Z",
          "shell.execute_reply.started": "2022-03-04T04:39:09.288053Z",
          "shell.execute_reply": "2022-03-04T04:39:16.21173Z"
        },
        "trusted": true,
        "id": "ljqbw0aW4xMl"
      },
      "execution_count": null,
      "outputs": []
    },
    {
      "cell_type": "code",
      "source": [
        "f = open(\"/content/gdrive/MyDrive/CS247/Final_Project/pair_frequency.pkl\",\"wb\")\n",
        "pickle.dump(pair_frequency,f)\n",
        "f.close()"
      ],
      "metadata": {
        "execution": {
          "iopub.status.busy": "2022-03-04T21:45:17.418984Z",
          "iopub.execute_input": "2022-03-04T21:45:17.419337Z",
          "iopub.status.idle": "2022-03-04T21:45:56.627095Z",
          "shell.execute_reply.started": "2022-03-04T21:45:17.419302Z",
          "shell.execute_reply": "2022-03-04T21:45:56.625781Z"
        },
        "trusted": true,
        "id": "tI2sqbAx4xMl"
      },
      "execution_count": null,
      "outputs": []
    },
    {
      "cell_type": "code",
      "source": [
        "#from tqdm import tqdm\n",
        "#import pickle\n",
        "\n",
        "with open('pair_frequency.pkl', 'rb') as f: \n",
        "    pair_frequency = pickle.load(f)"
      ],
      "metadata": {
        "execution": {
          "iopub.status.busy": "2022-03-04T11:44:39.727702Z",
          "iopub.execute_input": "2022-03-04T11:44:39.727997Z"
        },
        "trusted": true,
        "id": "spBLypfk4xMl"
      },
      "execution_count": null,
      "outputs": []
    },
    {
      "cell_type": "code",
      "source": [
        "#users_grouped_by_animes[1][1]\n",
        "n_users"
      ],
      "metadata": {
        "execution": {
          "iopub.status.busy": "2022-03-03T22:15:23.13085Z",
          "iopub.execute_input": "2022-03-03T22:15:23.131203Z",
          "iopub.status.idle": "2022-03-03T22:15:23.148841Z",
          "shell.execute_reply.started": "2022-03-03T22:15:23.131168Z",
          "shell.execute_reply": "2022-03-03T22:15:23.147945Z"
        },
        "trusted": true,
        "colab": {
          "base_uri": "https://localhost:8080/"
        },
        "id": "0BAf8XbV4xMl",
        "outputId": "8d0ad520-dd59-42b9-9352-639a328cf483"
      },
      "execution_count": null,
      "outputs": [
        {
          "output_type": "execute_result",
          "data": {
            "text/plain": [
              "7826"
            ]
          },
          "metadata": {},
          "execution_count": 60
        }
      ]
    },
    {
      "cell_type": "code",
      "source": [
        "D = math.log(sum(item_frequency.values()))\n",
        "D"
      ],
      "metadata": {
        "colab": {
          "base_uri": "https://localhost:8080/"
        },
        "id": "6gy2GMcNdNXH",
        "outputId": "cf0fa821-6ff8-42d9-97f8-49fd091dbbc4"
      },
      "execution_count": null,
      "outputs": [
        {
          "output_type": "execute_result",
          "data": {
            "text/plain": [
              "14.143854852173321"
            ]
          },
          "metadata": {},
          "execution_count": 61
        }
      ]
    },
    {
      "cell_type": "code",
      "source": [
        "min_weight = 150 #10 subject to change\n",
        "D = math.log(sum(item_frequency.values()))\n",
        "\n",
        "# Create the movies undirected graph.\n",
        "#animes_graph = nx.Graph()\n",
        "users_graph = nx.Graph()\n",
        "# Add weighted edges between movies.\n",
        "# This automatically adds the movie nodes to the graph.\n",
        "#added_users_dic = {}\n",
        "\n",
        "for pair in tqdm(\n",
        "    pair_frequency, position=0, leave=True, desc=\"Creating the users graph\"\n",
        "):\n",
        "\n",
        "    x, y = pair\n",
        "    \n",
        "    xy_frequency = pair_frequency[x, y]#pair_frequency[pair]\n",
        "    x_frequency = item_frequency[x]\n",
        "    y_frequency = item_frequency[y]\n",
        "\n",
        "    pmi = math.log(xy_frequency) - math.log(x_frequency) - math.log(y_frequency) + D\n",
        "    weight = pmi * xy_frequency\n",
        "    # Only include edges with weight >= min_weight.\n",
        "    if weight >= min_weight:\n",
        "        #animes_graph.add_edge(x, y, weight=weight)\n",
        "        users_graph.add_edge(x, y, weight=weight)\n",
        "    #else:\n",
        "    #    users_graph.add_node(x) # to ensure all users are included in the embedding generation\n",
        "\n",
        "\n",
        "print(\"Total number of graph nodes:\", users_graph.number_of_nodes())\n",
        "\n",
        "for user in tqdm(\n",
        "    range(n_users), position=0, leave=True, desc=\"Adding nodes(users) with no edges\"\n",
        "):\n",
        "    if user not in users_graph:\n",
        "      users_graph.add_node(user) # to ensure all users are included in the embedding generation\n"
      ],
      "metadata": {
        "execution": {
          "iopub.status.busy": "2022-03-04T23:15:18.690016Z",
          "iopub.execute_input": "2022-03-04T23:15:18.690928Z",
          "iopub.status.idle": "2022-03-04T23:16:53.760061Z",
          "shell.execute_reply.started": "2022-03-04T23:15:18.690872Z",
          "shell.execute_reply": "2022-03-04T23:16:53.758994Z"
        },
        "trusted": true,
        "colab": {
          "base_uri": "https://localhost:8080/"
        },
        "id": "iN8_zfdZ4xMm",
        "outputId": "e2d7ba0f-13aa-4b43-e50a-363f9d4fe06f"
      },
      "execution_count": null,
      "outputs": [
        {
          "output_type": "stream",
          "name": "stderr",
          "text": [
            "Creating the users graph: 100%|██████████| 26375039/26375039 [01:18<00:00, 335534.12it/s]\n"
          ]
        },
        {
          "output_type": "stream",
          "name": "stdout",
          "text": [
            "Total number of graph nodes: 6682\n"
          ]
        },
        {
          "output_type": "stream",
          "name": "stderr",
          "text": [
            "Adding nodes(users) with no edges: 100%|██████████| 7826/7826 [00:00<00:00, 998406.88it/s]\n"
          ]
        }
      ]
    },
    {
      "cell_type": "code",
      "source": [
        "print(\"Total number of graph nodes:\", users_graph.number_of_nodes())\n",
        "print(\"Total number of graph edges:\", users_graph.number_of_edges())"
      ],
      "metadata": {
        "execution": {
          "iopub.status.busy": "2022-03-04T23:18:12.048089Z",
          "iopub.execute_input": "2022-03-04T23:18:12.048405Z",
          "iopub.status.idle": "2022-03-04T23:18:12.158340Z",
          "shell.execute_reply.started": "2022-03-04T23:18:12.048373Z",
          "shell.execute_reply": "2022-03-04T23:18:12.157320Z"
        },
        "trusted": true,
        "colab": {
          "base_uri": "https://localhost:8080/"
        },
        "id": "4E9AG9wt4xMm",
        "outputId": "a97a5824-76df-4695-f5a2-13958e3c14f2"
      },
      "execution_count": null,
      "outputs": [
        {
          "output_type": "stream",
          "name": "stdout",
          "text": [
            "Total number of graph nodes: 7826\n",
            "Total number of graph edges: 6078493\n"
          ]
        }
      ]
    },
    {
      "cell_type": "code",
      "source": [
        "degrees = []\n",
        "for node in users_graph.nodes:\n",
        "    degrees.append(users_graph.degree[node])\n",
        "\n",
        "print(\"Average node degree:\", round(sum(degrees) / len(degrees), 2))"
      ],
      "metadata": {
        "execution": {
          "iopub.status.busy": "2022-03-04T23:18:18.226682Z",
          "iopub.execute_input": "2022-03-04T23:18:18.227040Z",
          "iopub.status.idle": "2022-03-04T23:18:18.452110Z",
          "shell.execute_reply.started": "2022-03-04T23:18:18.227004Z",
          "shell.execute_reply": "2022-03-04T23:18:18.451036Z"
        },
        "trusted": true,
        "colab": {
          "base_uri": "https://localhost:8080/"
        },
        "id": "i4pTlw564xMm",
        "outputId": "36a864fc-b5f0-43b0-8e85-084629aa8e85"
      },
      "execution_count": null,
      "outputs": [
        {
          "output_type": "stream",
          "name": "stdout",
          "text": [
            "Average node degree: 1553.41\n"
          ]
        }
      ]
    },
    {
      "cell_type": "code",
      "source": [
        "vocabulary = [\"NA\"] + list(users_graph.nodes)\n",
        "vocabulary_lookup = {token: idx for idx, token in enumerate(vocabulary)}"
      ],
      "metadata": {
        "execution": {
          "iopub.status.busy": "2022-03-04T23:34:54.432164Z",
          "iopub.execute_input": "2022-03-04T23:34:54.433063Z",
          "iopub.status.idle": "2022-03-04T23:34:54.465325Z",
          "shell.execute_reply.started": "2022-03-04T23:34:54.433002Z",
          "shell.execute_reply": "2022-03-04T23:34:54.464141Z"
        },
        "trusted": true,
        "id": "t00ZbjbI4xMm"
      },
      "execution_count": null,
      "outputs": []
    },
    {
      "cell_type": "code",
      "source": [
        "vocabulary[0:5]"
      ],
      "metadata": {
        "colab": {
          "base_uri": "https://localhost:8080/"
        },
        "id": "3NHyuk1RKi_f",
        "outputId": "54148995-de8b-423f-d401-2f348b9fc494"
      },
      "execution_count": null,
      "outputs": [
        {
          "output_type": "execute_result",
          "data": {
            "text/plain": [
              "['NA', 0, 2836, 25, 7364]"
            ]
          },
          "metadata": {},
          "execution_count": 77
        }
      ]
    },
    {
      "cell_type": "code",
      "source": [
        "vocabulary_lookup[2836]"
      ],
      "metadata": {
        "colab": {
          "base_uri": "https://localhost:8080/"
        },
        "id": "ro22x6B7LhQ9",
        "outputId": "6b391d65-22c1-4f3b-d650-df4e67e5dce9"
      },
      "execution_count": null,
      "outputs": [
        {
          "output_type": "execute_result",
          "data": {
            "text/plain": [
              "2"
            ]
          },
          "metadata": {},
          "execution_count": 78
        }
      ]
    },
    {
      "cell_type": "code",
      "source": [
        "def next_step(graph, previous, current, p, q):\n",
        "    neighbors = list(graph.neighbors(current))\n",
        "\n",
        "    weights = []\n",
        "    # Adjust the weights of the edges to the neighbors with respect to p and q.\n",
        "    for neighbor in neighbors:\n",
        "        if neighbor == previous:\n",
        "            # Control the probability to return to the previous node.\n",
        "            weights.append(graph[current][neighbor][\"weight\"] / p)\n",
        "        elif graph.has_edge(neighbor, previous):\n",
        "            # The probability of visiting a local node.\n",
        "            weights.append(graph[current][neighbor][\"weight\"])\n",
        "        else:\n",
        "            # Control the probability to move forward.\n",
        "            weights.append(graph[current][neighbor][\"weight\"] / q)\n",
        "\n",
        "    # Compute the probabilities of visiting each neighbor.\n",
        "    weight_sum = sum(weights)\n",
        "    probabilities = [weight / weight_sum for weight in weights]\n",
        "    # Probabilistically select a neighbor to visit.\n",
        "    next = np.random.choice(neighbors, size=1, p=probabilities)[0]\n",
        "    return next\n",
        "\n",
        "\n",
        "def random_walk(graph, num_walks, num_steps, p, q):\n",
        "    walks = []\n",
        "    nodes = list(graph.nodes())\n",
        "    # Perform multiple iterations of the random walk.\n",
        "    for walk_iteration in range(num_walks):\n",
        "        random.shuffle(nodes)\n",
        "\n",
        "        for node in tqdm(\n",
        "            nodes,\n",
        "            position=0,\n",
        "            leave=True,\n",
        "            desc=f\"Random walks iteration {walk_iteration + 1} of {num_walks}\",\n",
        "        ):\n",
        "          try:\n",
        "            # Start the walk with a random node from the graph.\n",
        "            walk = [node]\n",
        "            # Randomly walk for num_steps.\n",
        "            while len(walk) < num_steps:\n",
        "                current = walk[-1]\n",
        "                previous = walk[-2] if len(walk) > 1 else None\n",
        "                # Compute the next node to visit.\n",
        "                next = next_step(graph, previous, current, p, q)\n",
        "                walk.append(next)\n",
        "            # Replace node ids (movie ids) in the walk with token ids.\n",
        "            walk = [vocabulary_lookup[token] for token in walk]\n",
        "            # Add the walk to the generated sequence.\n",
        "            walks.append(walk)\n",
        "          except:\n",
        "            pass\n",
        "\n",
        "    return walks"
      ],
      "metadata": {
        "execution": {
          "iopub.status.busy": "2022-03-04T23:35:51.578016Z",
          "iopub.execute_input": "2022-03-04T23:35:51.578315Z",
          "iopub.status.idle": "2022-03-04T23:35:51.594546Z",
          "shell.execute_reply.started": "2022-03-04T23:35:51.578285Z",
          "shell.execute_reply": "2022-03-04T23:35:51.593347Z"
        },
        "trusted": true,
        "id": "DojhhSkT4xMn"
      },
      "execution_count": null,
      "outputs": []
    },
    {
      "cell_type": "code",
      "source": [
        "# Random walk return parameter.\n",
        "p = 1\n",
        "# Random walk in-out parameter.\n",
        "q = 1\n",
        "# Number of iterations of random walks.\n",
        "num_walks = 5\n",
        "# Number of steps of each random walk.\n",
        "num_steps = 5#10\n",
        "walks = random_walk(users_graph, num_walks, num_steps, p, q)\n",
        "\n",
        "print(\"Number of walks generated:\", len(walks))"
      ],
      "metadata": {
        "execution": {
          "iopub.status.busy": "2022-03-04T23:35:58.381275Z",
          "iopub.execute_input": "2022-03-04T23:35:58.381559Z",
          "iopub.status.idle": "2022-03-05T01:18:04.299101Z",
          "shell.execute_reply.started": "2022-03-04T23:35:58.381528Z",
          "shell.execute_reply": "2022-03-05T01:18:04.297967Z"
        },
        "trusted": true,
        "colab": {
          "base_uri": "https://localhost:8080/"
        },
        "id": "22XxdBGz4xMn",
        "outputId": "dc32a971-6f1d-477d-a6c6-c7cf48a3cb6f"
      },
      "execution_count": null,
      "outputs": [
        {
          "output_type": "stream",
          "name": "stderr",
          "text": [
            "Random walks iteration 1 of 5: 100%|██████████| 7826/7826 [12:25<00:00, 10.50it/s]\n",
            "Random walks iteration 2 of 5: 100%|██████████| 7826/7826 [12:18<00:00, 10.60it/s]\n",
            "Random walks iteration 3 of 5:  62%|██████▏   | 4880/7826 [07:48<05:11,  9.47it/s]"
          ]
        }
      ]
    },
    {
      "cell_type": "code",
      "source": [
        "# Random walk return parameter.\n",
        "p = 1\n",
        "# Random walk in-out parameter.\n",
        "q = 1\n",
        "# Number of iterations of random walks.\n",
        "num_walks = 5\n",
        "# Number of steps of each random walk.\n",
        "num_steps = 10\n",
        "walks = random_walk(users_graph, num_walks, num_steps, p, q)\n",
        "\n",
        "print(\"Number of walks generated:\", len(walks))\n",
        "\n",
        "\n",
        "def generate_examples(sequences, window_size, num_negative_samples, vocabulary_size):\n",
        "    example_weights = defaultdict(int)\n",
        "    # Iterate over all sequences (walks).\n",
        "    for sequence in tqdm(\n",
        "        sequences,\n",
        "        position=0,\n",
        "        leave=True,\n",
        "        desc=f\"Generating postive and negative examples\",\n",
        "    ):\n",
        "        # Generate positive and negative skip-gram pairs for a sequence (walk).\n",
        "        pairs, labels = keras.preprocessing.sequence.skipgrams(\n",
        "            sequence,\n",
        "            vocabulary_size=vocabulary_size,\n",
        "            window_size=window_size,\n",
        "            negative_samples=num_negative_samples,\n",
        "        )\n",
        "        for idx in range(len(pairs)):\n",
        "            pair = pairs[idx]\n",
        "            label = labels[idx]\n",
        "            target, context = min(pair[0], pair[1]), max(pair[0], pair[1])\n",
        "            if target == context:\n",
        "                continue\n",
        "            entry = (target, context, label)\n",
        "            example_weights[entry] += 1\n",
        "\n",
        "    targets, contexts, labels, weights = [], [], [], []\n",
        "    for entry in example_weights:\n",
        "        weight = example_weights[entry]\n",
        "        target, context, label = entry\n",
        "        targets.append(target)\n",
        "        contexts.append(context)\n",
        "        labels.append(label)\n",
        "        weights.append(weight)\n",
        "\n",
        "    return np.array(targets), np.array(contexts), np.array(labels), np.array(weights)\n",
        "\n",
        "\n",
        "num_negative_samples = 4\n",
        "targets, contexts, labels, weights = generate_examples(\n",
        "    sequences=walks,\n",
        "    window_size=num_steps,\n",
        "    num_negative_samples=num_negative_samples,\n",
        "    vocabulary_size=len(vocabulary),\n",
        ")\n",
        "\n",
        "\n",
        "batch_size = 1024\n",
        "\n",
        "\n",
        "def create_dataset(targets, contexts, labels, weights, batch_size):\n",
        "    inputs = {\n",
        "        \"target\": targets,\n",
        "        \"context\": contexts,\n",
        "    }\n",
        "    dataset = tf.data.Dataset.from_tensor_slices((inputs, labels, weights))\n",
        "    dataset = dataset.shuffle(buffer_size=batch_size * 2)\n",
        "    dataset = dataset.batch(batch_size, drop_remainder=True)\n",
        "    dataset = dataset.prefetch(tf.data.AUTOTUNE)\n",
        "    return dataset\n",
        "\n",
        "\n",
        "dataset = create_dataset(\n",
        "    targets=targets,\n",
        "    contexts=contexts,\n",
        "    labels=labels,\n",
        "    weights=weights,\n",
        "    batch_size=batch_size,\n",
        ")\n",
        "\n",
        "learning_rate = 0.001#0.001\n",
        "embedding_dim = 128#50\n",
        "num_epochs = 10\n",
        "\n",
        "def create_model(vocabulary_size, embedding_dim):\n",
        "\n",
        "    inputs = {\n",
        "        \"target\": layers.Input(name=\"target\", shape=(), dtype=\"int32\"),\n",
        "        \"context\": layers.Input(name=\"context\", shape=(), dtype=\"int32\"),\n",
        "    }\n",
        "    # Initialize item embeddings.\n",
        "    embed_item = layers.Embedding(\n",
        "        input_dim=vocabulary_size,\n",
        "        output_dim=embedding_dim,\n",
        "        embeddings_initializer=\"he_normal\",\n",
        "        embeddings_regularizer=keras.regularizers.l2(1e-6),\n",
        "        name=\"user_embeddings\",\n",
        "    )\n",
        "    # Lookup embeddings for target.\n",
        "    target_embeddings = embed_item(inputs[\"target\"])\n",
        "    # Lookup embeddings for context.\n",
        "    context_embeddings = embed_item(inputs[\"context\"])\n",
        "    # Compute dot similarity between target and context embeddings.\n",
        "    logits = layers.Dot(axes=1, normalize=False, name=\"dot_similarity\")(\n",
        "        [target_embeddings, context_embeddings]\n",
        "    )\n",
        "    # Create the model.\n",
        "    model = keras.Model(inputs=inputs, outputs=logits)\n",
        "    return model\n",
        "\n",
        "\n",
        "model_node2vec = create_model(len(vocabulary), embedding_dim)\n",
        "model_node2vec.compile(\n",
        "    optimizer=tf.keras.optimizers.Adam(learning_rate),\n",
        "    loss=keras.losses.BinaryCrossentropy(from_logits=True),\n",
        ")\n",
        "#model_node2vec.summary()\n",
        "\n",
        "\n",
        "history = model_node2vec.fit(dataset, epochs=num_epochs)\n",
        "\n",
        "\n",
        "\n",
        "plt.plot(history.history[\"loss\"])\n",
        "plt.ylabel(\"loss\")\n",
        "plt.xlabel(\"epoch\")\n",
        "plt.show()\n",
        "\n",
        "\n",
        "\n",
        "users_embeddings = model_node2vec.get_layer(\"user_embeddings\").get_weights()[0]\n",
        "print(\"Embeddings shape:\", users_embeddings.shape)\n",
        "\n",
        "\n",
        "\n",
        "\n",
        "f3 = open(\"/content/gdrive/MyDrive/CS247/Final_Project/user_embeddings_n2v_weight10_w10_s10.pkl\",\"wb\")\n",
        "pickle.dump(users_embeddings,f3)\n",
        "f3.close()\n",
        "\n",
        "f6 = open(\"/content/gdrive/MyDrive/CS247/Final_Project/vocabulary.pkl\",\"wb\")\n",
        "pickle.dump(vocabulary,f6)\n",
        "f6.close()\n",
        "\n",
        "f7 = open(\"/content/gdrive/MyDrive/CS247/Final_Project/vocabulary_lookup.pkl\",\"wb\")\n",
        "pickle.dump(vocabulary_lookup,f7)\n",
        "f7.close()"
      ],
      "metadata": {
        "colab": {
          "base_uri": "https://localhost:8080/",
          "height": 765
        },
        "id": "DU6kEySVNDOi",
        "outputId": "db2c983d-b013-494d-d87e-c602d70d20fd"
      },
      "execution_count": null,
      "outputs": [
        {
          "output_type": "stream",
          "name": "stderr",
          "text": [
            "Random walks iteration 1 of 5: 100%|██████████| 7826/7826 [12:19<00:00, 10.58it/s]\n",
            "Random walks iteration 2 of 5: 100%|██████████| 7826/7826 [12:08<00:00, 10.75it/s]\n",
            "Random walks iteration 3 of 5: 100%|██████████| 7826/7826 [12:03<00:00, 10.82it/s]\n",
            "Random walks iteration 4 of 5: 100%|██████████| 7826/7826 [11:52<00:00, 10.98it/s]\n",
            "Random walks iteration 5 of 5: 100%|██████████| 7826/7826 [11:59<00:00, 10.87it/s]\n"
          ]
        },
        {
          "output_type": "stream",
          "name": "stdout",
          "text": [
            "Number of walks generated: 33410\n"
          ]
        },
        {
          "output_type": "stream",
          "name": "stderr",
          "text": [
            "Generating postive and negative examples: 100%|██████████| 33410/33410 [01:29<00:00, 372.30it/s]\n"
          ]
        },
        {
          "output_type": "stream",
          "name": "stdout",
          "text": [
            "Epoch 1/10\n",
            "10247/10247 [==============================] - 92s 9ms/step - loss: 0.9600\n",
            "Epoch 2/10\n",
            "10247/10247 [==============================] - 91s 9ms/step - loss: 0.9509\n",
            "Epoch 3/10\n",
            "10247/10247 [==============================] - 92s 9ms/step - loss: 0.9496\n",
            "Epoch 4/10\n",
            "10247/10247 [==============================] - 92s 9ms/step - loss: 0.9478\n",
            "Epoch 5/10\n",
            "10247/10247 [==============================] - 92s 9ms/step - loss: 0.9454\n",
            "Epoch 6/10\n",
            "10247/10247 [==============================] - 91s 9ms/step - loss: 0.9427\n",
            "Epoch 7/10\n",
            "10247/10247 [==============================] - 91s 9ms/step - loss: 0.9402\n",
            "Epoch 8/10\n",
            "10247/10247 [==============================] - 91s 9ms/step - loss: 0.9383\n",
            "Epoch 9/10\n",
            "10247/10247 [==============================] - 91s 9ms/step - loss: 0.9368\n",
            "Epoch 10/10\n",
            "10247/10247 [==============================] - 92s 9ms/step - loss: 0.9358\n"
          ]
        },
        {
          "output_type": "display_data",
          "data": {
            "image/png": "[encoded data removed]",
            "text/plain": [
              "<Figure size 432x288 with 1 Axes>"
            ]
          },
          "metadata": {
            "needs_background": "light"
          }
        },
        {
          "output_type": "stream",
          "name": "stdout",
          "text": [
            "Embeddings shape: (7827, 128)\n"
          ]
        }
      ]
    },
    {
      "cell_type": "code",
      "source": [
        "f8 = open(\"/content/gdrive/MyDrive/CS247/Final_Project/rating_df_current.pkl\",\"wb\")\n",
        "pickle.dump(rating_df,f8)\n",
        "f8.close()\n",
        "\n",
        "f9 = open(\"/content/gdrive/MyDrive/CS247/Final_Project/high_rating.pkl\",\"wb\")\n",
        "pickle.dump(high_rating,f9)\n",
        "f9.close()"
      ],
      "metadata": {
        "id": "G-g-1JWq9icC"
      },
      "execution_count": null,
      "outputs": []
    },
    {
      "cell_type": "code",
      "source": [
        "\n",
        "f2 = open(\"users_walks_small.pkl\",\"wb\")\n",
        "pickle.dump(walks,f2)\n",
        "f2.close()\n"
      ],
      "metadata": {
        "execution": {
          "iopub.status.busy": "2022-03-05T01:21:22.980004Z",
          "iopub.execute_input": "2022-03-05T01:21:22.980817Z",
          "iopub.status.idle": "2022-03-05T01:21:23.575061Z",
          "shell.execute_reply.started": "2022-03-05T01:21:22.980776Z",
          "shell.execute_reply": "2022-03-05T01:21:23.574084Z"
        },
        "trusted": true,
        "id": "n8tYoFsA4xMo"
      },
      "execution_count": null,
      "outputs": []
    },
    {
      "cell_type": "code",
      "source": [
        "with open('users_walks_small.pkl', 'rb') as f2: \n",
        "    walks = pickle.load(f2)"
      ],
      "metadata": {
        "id": "D8aT3tBYT3f6"
      },
      "execution_count": null,
      "outputs": []
    },
    {
      "cell_type": "code",
      "source": [
        "f3 = open(\"/content/gdrive/MyDrive/CS247/Final_Project/user_embeddings_n2v_weight10_w10_s10.pkl\",\"rb\")\n",
        "users_embeddings = pickle.load(f3)\n",
        "f3.close()\n",
        "\n",
        "f6 = open(\"/content/gdrive/MyDrive/CS247/Final_Project/vocabulary.pkl\",\"rb\")\n",
        "vocabulary = pickle.load(f6)\n",
        "f6.close()\n",
        "\n",
        "f7 = open(\"/content/gdrive/MyDrive/CS247/Final_Project/vocabulary_lookup.pkl\",\"rb\")\n",
        "vocabulary_lookup = pickle.load(f7)\n",
        "f7.close()"
      ],
      "metadata": {
        "colab": {
          "base_uri": "https://localhost:8080/",
          "height": 237
        },
        "id": "XL5rwshQaibn",
        "outputId": "722d883e-b3f5-4d9d-b17b-901ba9aec158"
      },
      "execution_count": null,
      "outputs": [
        {
          "output_type": "error",
          "ename": "EOFError",
          "evalue": "ignored",
          "traceback": [
            "\u001b[0;31m---------------------------------------------------------------------------\u001b[0m",
            "\u001b[0;31mEOFError\u001b[0m                                  Traceback (most recent call last)",
            "\u001b[0;32m<ipython-input-10-435021f0be3e>\u001b[0m in \u001b[0;36m<module>\u001b[0;34m()\u001b[0m\n\u001b[1;32m      1\u001b[0m \u001b[0mf3\u001b[0m \u001b[0;34m=\u001b[0m \u001b[0mopen\u001b[0m\u001b[0;34m(\u001b[0m\u001b[0;34m\"/content/gdrive/MyDrive/CS247/Final_Project/user_embeddings_n2v_weight10_w10_s10.pkl\"\u001b[0m\u001b[0;34m,\u001b[0m\u001b[0;34m\"rb\"\u001b[0m\u001b[0;34m)\u001b[0m\u001b[0;34m\u001b[0m\u001b[0;34m\u001b[0m\u001b[0m\n\u001b[0;32m----> 2\u001b[0;31m \u001b[0musers_embeddings\u001b[0m \u001b[0;34m=\u001b[0m \u001b[0mpickle\u001b[0m\u001b[0;34m.\u001b[0m\u001b[0mload\u001b[0m\u001b[0;34m(\u001b[0m\u001b[0mf3\u001b[0m\u001b[0;34m)\u001b[0m\u001b[0;34m\u001b[0m\u001b[0;34m\u001b[0m\u001b[0m\n\u001b[0m\u001b[1;32m      3\u001b[0m \u001b[0mf3\u001b[0m\u001b[0;34m.\u001b[0m\u001b[0mclose\u001b[0m\u001b[0;34m(\u001b[0m\u001b[0;34m)\u001b[0m\u001b[0;34m\u001b[0m\u001b[0;34m\u001b[0m\u001b[0m\n\u001b[1;32m      4\u001b[0m \u001b[0;34m\u001b[0m\u001b[0m\n\u001b[1;32m      5\u001b[0m \u001b[0mf6\u001b[0m \u001b[0;34m=\u001b[0m \u001b[0mopen\u001b[0m\u001b[0;34m(\u001b[0m\u001b[0;34m\"/content/gdrive/MyDrive/CS247/Final_Project/vocabulary.pkl\"\u001b[0m\u001b[0;34m,\u001b[0m\u001b[0;34m\"rb\"\u001b[0m\u001b[0;34m)\u001b[0m\u001b[0;34m\u001b[0m\u001b[0;34m\u001b[0m\u001b[0m\n",
            "\u001b[0;31mEOFError\u001b[0m: Ran out of input"
          ]
        }
      ]
    },
    {
      "cell_type": "code",
      "source": [
        "def generate_examples(sequences, window_size, num_negative_samples, vocabulary_size):\n",
        "    example_weights = defaultdict(int)\n",
        "    # Iterate over all sequences (walks).\n",
        "    for sequence in tqdm(\n",
        "        sequences,\n",
        "        position=0,\n",
        "        leave=True,\n",
        "        desc=f\"Generating postive and negative examples\",\n",
        "    ):\n",
        "        # Generate positive and negative skip-gram pairs for a sequence (walk).\n",
        "        pairs, labels = keras.preprocessing.sequence.skipgrams(\n",
        "            sequence,\n",
        "            vocabulary_size=vocabulary_size,\n",
        "            window_size=window_size,\n",
        "            negative_samples=num_negative_samples,\n",
        "        )\n",
        "        for idx in range(len(pairs)):\n",
        "            pair = pairs[idx]\n",
        "            label = labels[idx]\n",
        "            target, context = min(pair[0], pair[1]), max(pair[0], pair[1])\n",
        "            if target == context:\n",
        "                continue\n",
        "            entry = (target, context, label)\n",
        "            example_weights[entry] += 1\n",
        "\n",
        "    targets, contexts, labels, weights = [], [], [], []\n",
        "    for entry in example_weights:\n",
        "        weight = example_weights[entry]\n",
        "        target, context, label = entry\n",
        "        targets.append(target)\n",
        "        contexts.append(context)\n",
        "        labels.append(label)\n",
        "        weights.append(weight)\n",
        "\n",
        "    return np.array(targets), np.array(contexts), np.array(labels), np.array(weights)\n",
        "\n",
        "\n",
        "num_negative_samples = 4\n",
        "targets, contexts, labels, weights = generate_examples(\n",
        "    sequences=walks,\n",
        "    window_size=num_steps,\n",
        "    num_negative_samples=num_negative_samples,\n",
        "    vocabulary_size=len(vocabulary),\n",
        ")"
      ],
      "metadata": {
        "execution": {
          "iopub.status.busy": "2022-03-05T01:29:53.931434Z",
          "iopub.execute_input": "2022-03-05T01:29:53.931783Z"
        },
        "trusted": true,
        "colab": {
          "base_uri": "https://localhost:8080/"
        },
        "id": "j7hNGxsC4xMo",
        "outputId": "8df63091-eb12-4bae-e49b-d45bb109b1d3"
      },
      "execution_count": null,
      "outputs": [
        {
          "output_type": "stream",
          "name": "stderr",
          "text": [
            "Generating postive and negative examples: 100%|██████████| 37182/37182 [00:21<00:00, 1769.42it/s]\n"
          ]
        }
      ]
    },
    {
      "cell_type": "code",
      "source": [
        "print(f\"Targets shape: {targets.shape}\")\n",
        "print(f\"Contexts shape: {contexts.shape}\")\n",
        "print(f\"Labels shape: {labels.shape}\")\n",
        "print(f\"Weights shape: {weights.shape}\")"
      ],
      "metadata": {
        "trusted": true,
        "id": "Z7RouOfP4xMp"
      },
      "execution_count": null,
      "outputs": []
    },
    {
      "cell_type": "code",
      "source": [
        "batch_size = 1024\n",
        "\n",
        "\n",
        "def create_dataset(targets, contexts, labels, weights, batch_size):\n",
        "    inputs = {\n",
        "        \"target\": targets,\n",
        "        \"context\": contexts,\n",
        "    }\n",
        "    dataset = tf.data.Dataset.from_tensor_slices((inputs, labels, weights))\n",
        "    dataset = dataset.shuffle(buffer_size=batch_size * 2)\n",
        "    dataset = dataset.batch(batch_size, drop_remainder=True)\n",
        "    dataset = dataset.prefetch(tf.data.AUTOTUNE)\n",
        "    return dataset\n",
        "\n",
        "\n",
        "dataset = create_dataset(\n",
        "    targets=targets,\n",
        "    contexts=contexts,\n",
        "    labels=labels,\n",
        "    weights=weights,\n",
        "    batch_size=batch_size,\n",
        ")"
      ],
      "metadata": {
        "execution": {
          "iopub.status.busy": "2022-03-03T14:32:53.568697Z",
          "iopub.execute_input": "2022-03-03T14:32:53.568978Z",
          "iopub.status.idle": "2022-03-03T14:32:53.928514Z",
          "shell.execute_reply.started": "2022-03-03T14:32:53.568948Z",
          "shell.execute_reply": "2022-03-03T14:32:53.927776Z"
        },
        "trusted": true,
        "id": "9xs4ZRLq4xMp"
      },
      "execution_count": null,
      "outputs": []
    },
    {
      "cell_type": "code",
      "source": [
        "learning_rate = 0.001#0.001\n",
        "embedding_dim = 128#50\n",
        "num_epochs = 10\n",
        "\n",
        "def create_model(vocabulary_size, embedding_dim):\n",
        "\n",
        "    inputs = {\n",
        "        \"target\": layers.Input(name=\"target\", shape=(), dtype=\"int32\"),\n",
        "        \"context\": layers.Input(name=\"context\", shape=(), dtype=\"int32\"),\n",
        "    }\n",
        "    # Initialize item embeddings.\n",
        "    embed_item = layers.Embedding(\n",
        "        input_dim=vocabulary_size,\n",
        "        output_dim=embedding_dim,\n",
        "        embeddings_initializer=\"he_normal\",\n",
        "        embeddings_regularizer=keras.regularizers.l2(1e-6),\n",
        "        name=\"user_embeddings\",\n",
        "    )\n",
        "    # Lookup embeddings for target.\n",
        "    target_embeddings = embed_item(inputs[\"target\"])\n",
        "    # Lookup embeddings for context.\n",
        "    context_embeddings = embed_item(inputs[\"context\"])\n",
        "    # Compute dot similarity between target and context embeddings.\n",
        "    logits = layers.Dot(axes=1, normalize=False, name=\"dot_similarity\")(\n",
        "        [target_embeddings, context_embeddings]\n",
        "    )\n",
        "    # Create the model.\n",
        "    model = keras.Model(inputs=inputs, outputs=logits)\n",
        "    return model"
      ],
      "metadata": {
        "execution": {
          "iopub.status.busy": "2022-03-03T14:33:00.540521Z",
          "iopub.execute_input": "2022-03-03T14:33:00.540802Z",
          "iopub.status.idle": "2022-03-03T14:33:00.550738Z",
          "shell.execute_reply.started": "2022-03-03T14:33:00.540773Z",
          "shell.execute_reply": "2022-03-03T14:33:00.549791Z"
        },
        "trusted": true,
        "id": "P5rnVof44xMp"
      },
      "execution_count": null,
      "outputs": []
    },
    {
      "cell_type": "code",
      "source": [
        "model_node2vec = create_model(len(vocabulary), embedding_dim)\n",
        "model_node2vec.compile(\n",
        "    optimizer=tf.keras.optimizers.Adam(learning_rate),\n",
        "    loss=keras.losses.BinaryCrossentropy(from_logits=True),\n",
        ")\n",
        "model_node2vec.summary()\n"
      ],
      "metadata": {
        "execution": {
          "iopub.status.busy": "2022-03-03T14:33:03.172411Z",
          "iopub.execute_input": "2022-03-03T14:33:03.172854Z",
          "iopub.status.idle": "2022-03-03T14:33:03.223052Z",
          "shell.execute_reply.started": "2022-03-03T14:33:03.172821Z",
          "shell.execute_reply": "2022-03-03T14:33:03.222402Z"
        },
        "trusted": true,
        "id": "y0mAY_UJ4xMq"
      },
      "execution_count": null,
      "outputs": []
    },
    {
      "cell_type": "code",
      "source": [
        "history = model_node2vec.fit(dataset, epochs=num_epochs)"
      ],
      "metadata": {
        "execution": {
          "iopub.status.busy": "2022-03-03T14:33:06.242373Z",
          "iopub.execute_input": "2022-03-03T14:33:06.243211Z",
          "iopub.status.idle": "2022-03-03T14:40:04.850956Z",
          "shell.execute_reply.started": "2022-03-03T14:33:06.243142Z",
          "shell.execute_reply": "2022-03-03T14:40:04.850028Z"
        },
        "trusted": true,
        "colab": {
          "base_uri": "https://localhost:8080/"
        },
        "id": "lKBWEqdY4xMq",
        "outputId": "3da334e9-44df-4892-aec7-3d11610ae9b5"
      },
      "execution_count": null,
      "outputs": [
        {
          "output_type": "stream",
          "name": "stdout",
          "text": [
            "Epoch 1/10\n",
            "3105/3105 [==============================] - 38s 12ms/step - loss: 0.8120\n",
            "Epoch 2/10\n",
            "3105/3105 [==============================] - 39s 13ms/step - loss: 0.8050\n",
            "Epoch 3/10\n",
            "3105/3105 [==============================] - 39s 12ms/step - loss: 0.7818\n",
            "Epoch 4/10\n",
            "3105/3105 [==============================] - 37s 12ms/step - loss: 0.7520\n",
            "Epoch 5/10\n",
            "3105/3105 [==============================] - 37s 12ms/step - loss: 0.7257\n",
            "Epoch 6/10\n",
            "3105/3105 [==============================] - 37s 12ms/step - loss: 0.7057\n",
            "Epoch 7/10\n",
            "3105/3105 [==============================] - 37s 12ms/step - loss: 0.6911\n",
            "Epoch 8/10\n",
            "3105/3105 [==============================] - 38s 12ms/step - loss: 0.6804\n",
            "Epoch 9/10\n",
            "3105/3105 [==============================] - 37s 12ms/step - loss: 0.6726\n",
            "Epoch 10/10\n",
            "3105/3105 [==============================] - 37s 12ms/step - loss: 0.6667\n"
          ]
        }
      ]
    },
    {
      "cell_type": "code",
      "source": [
        "plt.plot(history.history[\"loss\"])\n",
        "plt.ylabel(\"loss\")\n",
        "plt.xlabel(\"epoch\")\n",
        "plt.show()"
      ],
      "metadata": {
        "execution": {
          "iopub.status.busy": "2022-03-03T14:41:34.881999Z",
          "iopub.execute_input": "2022-03-03T14:41:34.882364Z",
          "iopub.status.idle": "2022-03-03T14:41:35.083215Z",
          "shell.execute_reply.started": "2022-03-03T14:41:34.882328Z",
          "shell.execute_reply": "2022-03-03T14:41:35.082288Z"
        },
        "trusted": true,
        "colab": {
          "base_uri": "https://localhost:8080/",
          "height": 279
        },
        "id": "pskO181M4xMq",
        "outputId": "ca0c54eb-8c9e-4ee3-b335-1f07ae489980"
      },
      "execution_count": null,
      "outputs": [
        {
          "output_type": "display_data",
          "data": {
            "image/png": "[encoded data removed]",
            "text/plain": [
              "<Figure size 432x288 with 1 Axes>"
            ]
          },
          "metadata": {
            "needs_background": "light"
          }
        }
      ]
    },
    {
      "cell_type": "markdown",
      "source": [
        "## Analyzing the embeddings"
      ],
      "metadata": {
        "id": "0mIkpLNX4xMr"
      }
    },
    {
      "cell_type": "code",
      "source": [
        "users_embeddings = model_node2vec.get_layer(\"user_embeddings\").get_weights()[0]\n",
        "print(\"Embeddings shape:\", users_embeddings.shape)"
      ],
      "metadata": {
        "execution": {
          "iopub.status.busy": "2022-03-03T14:41:41.057212Z",
          "iopub.execute_input": "2022-03-03T14:41:41.057515Z",
          "iopub.status.idle": "2022-03-03T14:41:41.06382Z",
          "shell.execute_reply.started": "2022-03-03T14:41:41.057481Z",
          "shell.execute_reply": "2022-03-03T14:41:41.063194Z"
        },
        "trusted": true,
        "colab": {
          "base_uri": "https://localhost:8080/"
        },
        "id": "cBmLtXP14xMr",
        "outputId": "2921a195-c999-4335-c455-ededc1742258"
      },
      "execution_count": null,
      "outputs": [
        {
          "output_type": "stream",
          "name": "stdout",
          "text": [
            "Embeddings shape: (7827, 128)\n"
          ]
        }
      ]
    },
    {
      "cell_type": "code",
      "source": [
        "f3 = open(\"user_embeddings_n2v_0.8_weight150_w10_s10.pkl\",\"wb\")\n",
        "pickle.dump(users_embeddings,f3)\n",
        "f3.close()"
      ],
      "metadata": {
        "execution": {
          "iopub.status.busy": "2022-03-03T14:41:53.66528Z",
          "iopub.execute_input": "2022-03-03T14:41:53.665733Z",
          "iopub.status.idle": "2022-03-03T14:41:53.671745Z",
          "shell.execute_reply.started": "2022-03-03T14:41:53.665684Z",
          "shell.execute_reply": "2022-03-03T14:41:53.67106Z"
        },
        "trusted": true,
        "id": "ygDfpBEc4xMr"
      },
      "execution_count": null,
      "outputs": []
    },
    {
      "cell_type": "code",
      "source": [
        "df = pd.read_csv(INPUT_DIR + '/anime.csv', low_memory=True)\n",
        "df = df.replace(\"Unknown\", np.nan)"
      ],
      "metadata": {
        "id": "XTcBd2cEhdF_"
      },
      "execution_count": null,
      "outputs": []
    },
    {
      "cell_type": "code",
      "source": [
        "# Fixing Names\n",
        "def getAnimeName(anime_id):\n",
        "    try:\n",
        "        name = df[df.anime_id == anime_id].eng_version.values[0]\n",
        "        if name is np.nan:\n",
        "            name = df[df.anime_id == anime_id].Name.values[0]\n",
        "    except:\n",
        "        print('error')\n",
        "    \n",
        "    return name\n",
        "\n",
        "df['anime_id'] = df['MAL_ID']\n",
        "df[\"eng_version\"] = df['English name']\n",
        "df['eng_version'] = df.anime_id.apply(lambda x: getAnimeName(x))\n",
        "\n",
        "df.sort_values(by=['Score'], \n",
        "               inplace=True,\n",
        "               ascending=False, \n",
        "               kind='quicksort',\n",
        "               na_position='last')\n",
        "\n",
        "df = df[[\"anime_id\", \"eng_version\", \n",
        "         \"Score\", \"Episodes\", \n",
        "         \"Type\", \"Premiered\", \"Members\"]]"
      ],
      "metadata": {
        "id": "UAiqhhjehf1y"
      },
      "execution_count": null,
      "outputs": []
    },
    {
      "cell_type": "code",
      "source": [
        "#users_embedding_NA = users_embeddings[0]\n",
        "#users_embeddings = users_embeddings[1:]\n",
        "#print(\"Embeddings shape:\", users_embeddings.shape)"
      ],
      "metadata": {
        "colab": {
          "base_uri": "https://localhost:8080/"
        },
        "id": "19b27TV1jbW-",
        "outputId": "b8761f07-f4f9-40c0-c6dc-47d48b344e49"
      },
      "execution_count": null,
      "outputs": [
        {
          "output_type": "stream",
          "name": "stdout",
          "text": [
            "Embeddings shape: (7827, 128)\n"
          ]
        }
      ]
    },
    {
      "cell_type": "code",
      "source": [
        "random_user = random.choice(range(len(users_embeddings)))\n",
        "print(\"Random user: \", random_user)"
      ],
      "metadata": {
        "execution": {
          "iopub.status.busy": "2022-03-03T14:42:16.990813Z",
          "iopub.execute_input": "2022-03-03T14:42:16.991383Z",
          "iopub.status.idle": "2022-03-03T14:42:16.996996Z",
          "shell.execute_reply.started": "2022-03-03T14:42:16.991343Z",
          "shell.execute_reply": "2022-03-03T14:42:16.996179Z"
        },
        "trusted": true,
        "colab": {
          "base_uri": "https://localhost:8080/"
        },
        "id": "VfEa-0E_4xMx",
        "outputId": "cfb7e643-c525-4c87-cc7b-bfdd9fdf7101"
      },
      "execution_count": null,
      "outputs": [
        {
          "output_type": "stream",
          "name": "stdout",
          "text": [
            "Random user:  3728\n"
          ]
        }
      ]
    },
    {
      "cell_type": "code",
      "source": [
        "ratings_per_user = rating_df.groupby('user').size()\n",
        "random_user = ratings_per_user[ratings_per_user < 500].sample(1, random_state=None).index[0]\n",
        "print('> user_id:', random_user)"
      ],
      "metadata": {
        "colab": {
          "base_uri": "https://localhost:8080/"
        },
        "id": "2LMkShtn7KrH",
        "outputId": "fd8dacca-f337-420b-d5f6-b72995c416c0"
      },
      "execution_count": null,
      "outputs": [
        {
          "output_type": "stream",
          "name": "stdout",
          "text": [
            "> user_id: 1716\n"
          ]
        }
      ]
    },
    {
      "cell_type": "code",
      "source": [
        "#random_user = 1067#934\n",
        "#random_user = 7435\n",
        "random_usr_idx_in_emb = vocabulary_lookup[random_user]\n",
        "\n",
        "target = np.expand_dims(users_embeddings[random_usr_idx_in_emb], axis=0)\n",
        "#target.shape\n",
        "#similarities = #np.multiply(target, users_embeddings)\n",
        "similarities = target * users_embeddings \n",
        "\n",
        "# Calculate cosine simiarities:\n",
        "similarities = np.sum(similarities, axis=1) / (np.linalg.norm(users_embeddings, axis=1) * np.linalg.norm(target, axis=1))\n",
        "#similarities.shape\n",
        "similar_users = np.argsort(similarities)\n",
        "similar_users = similar_users[::-1]\n",
        "\n",
        "# random_user should have similarity 1.0\n",
        "for simuser_idx_emb in similar_users[0:11]:\n",
        "    print(\"Similar user:\", vocabulary[simuser_idx_emb], \"     similarity:\", similarities[simuser_idx_emb])"
      ],
      "metadata": {
        "execution": {
          "iopub.status.busy": "2022-03-03T14:49:35.280665Z",
          "iopub.execute_input": "2022-03-03T14:49:35.281323Z",
          "iopub.status.idle": "2022-03-03T14:49:35.297577Z",
          "shell.execute_reply.started": "2022-03-03T14:49:35.281283Z",
          "shell.execute_reply": "2022-03-03T14:49:35.294309Z"
        },
        "trusted": true,
        "colab": {
          "base_uri": "https://localhost:8080/"
        },
        "id": "qXYHXz614xMy",
        "outputId": "e066177c-977d-4062-ea74-6a1004929867"
      },
      "execution_count": null,
      "outputs": [
        {
          "output_type": "stream",
          "name": "stdout",
          "text": [
            "Similar user: 1716      similarity: 1.0\n",
            "Similar user: 7332      similarity: 0.37617427\n",
            "Similar user: 5284      similarity: 0.3572869\n",
            "Similar user: 4215      similarity: 0.33717933\n",
            "Similar user: 1542      similarity: 0.32325098\n",
            "Similar user: 3545      similarity: 0.31841034\n",
            "Similar user: 156      similarity: 0.3134742\n",
            "Similar user: 6885      similarity: 0.30966923\n",
            "Similar user: 502      similarity: 0.30908826\n",
            "Similar user: 4237      similarity: 0.2984705\n",
            "Similar user: 6061      similarity: 0.28957886\n"
          ]
        },
        {
          "output_type": "stream",
          "name": "stderr",
          "text": [
            "/usr/local/lib/python3.7/dist-packages/ipykernel_launcher.py:11: RuntimeWarning: divide by zero encountered in true_divide\n",
            "  # This is added back by InteractiveShellApp.init_path()\n"
          ]
        }
      ]
    },
    {
      "cell_type": "code",
      "source": [
        "random_user_id = user_encoded2user[random_user]\n",
        "\n",
        "def get_user_preferences(user_id, plot=False, verbose=0):\n",
        "    animes_watched_by_user = rating_df[rating_df.user_id==user_id]\n",
        "    #user_rating_percentile = np.percentile(animes_watched_by_user.rating, 75)\n",
        "    #animes_watched_by_user = animes_watched_by_user[animes_watched_by_user.rating >= user_rating_percentile]\n",
        "    top_animes_user = (\n",
        "        animes_watched_by_user.sort_values(by=\"rating\", ascending=False)#.head(10)\n",
        "        .anime_id.values\n",
        "    )\n",
        "    \n",
        "    anime_df_rows = df[df[\"anime_id\"].isin(top_animes_user)]\n",
        "    anime_df_rows = anime_df_rows[[\"eng_version\"]]\n",
        "    \n",
        "    if verbose != 0:\n",
        "        print(\"> User #{} has rated {} movies (avg. rating = {:.1f})\".format(\n",
        "          user_id, len(animes_watched_by_user),\n",
        "          animes_watched_by_user['rating'].mean(),\n",
        "        ))\n",
        "    \n",
        "        print('> preferred genres')\n",
        "    \n",
        "#     if plot:\n",
        "#         getFavGenre(anime_df_rows, plot)\n",
        "        \n",
        "    return anime_df_rows#.eng_version.values\n",
        "\n",
        "user_pref = get_user_preferences(random_user_id, plot=True, verbose=1)\n",
        "print('> animes highly rated by this user')\n",
        "\n",
        "pd.DataFrame(user_pref).head(15)"
      ],
      "metadata": {
        "execution": {
          "iopub.status.busy": "2022-03-03T14:52:00.320058Z",
          "iopub.execute_input": "2022-03-03T14:52:00.32088Z",
          "iopub.status.idle": "2022-03-03T14:52:00.342371Z",
          "shell.execute_reply.started": "2022-03-03T14:52:00.32084Z",
          "shell.execute_reply": "2022-03-03T14:52:00.341234Z"
        },
        "trusted": true,
        "colab": {
          "base_uri": "https://localhost:8080/",
          "height": 561
        },
        "id": "JTYgDSgv4xMy",
        "outputId": "78a71348-5d01-471e-fce9-3bc124a3c14c"
      },
      "execution_count": null,
      "outputs": [
        {
          "output_type": "stream",
          "name": "stdout",
          "text": [
            "> User #70437 has rated 404 movies (avg. rating = 0.5)\n",
            "> preferred genres\n",
            "> animes highly rated by this user\n"
          ]
        },
        {
          "output_type": "execute_result",
          "data": {
            "text/html": [
              "\n",
              "  <div id=\"df-013a41a3-c3e9-4e74-94e3-7d8fe912771a\">\n",
              "    <div class=\"colab-df-container\">\n",
              "      <div>\n",
              "<style scoped>\n",
              "    .dataframe tbody tr th:only-of-type {\n",
              "        vertical-align: middle;\n",
              "    }\n",
              "\n",
              "    .dataframe tbody tr th {\n",
              "        vertical-align: top;\n",
              "    }\n",
              "\n",
              "    .dataframe thead th {\n",
              "        text-align: right;\n",
              "    }\n",
              "</style>\n",
              "<table border=\"1\" class=\"dataframe\">\n",
              "  <thead>\n",
              "    <tr style=\"text-align: right;\">\n",
              "      <th></th>\n",
              "      <th>eng_version</th>\n",
              "    </tr>\n",
              "  </thead>\n",
              "  <tbody>\n",
              "    <tr>\n",
              "      <th>3971</th>\n",
              "      <td>Fullmetal Alchemist:Brotherhood</td>\n",
              "    </tr>\n",
              "    <tr>\n",
              "      <th>9913</th>\n",
              "      <td>Gintama Season 4</td>\n",
              "    </tr>\n",
              "    <tr>\n",
              "      <th>6006</th>\n",
              "      <td>Gintama Season 2</td>\n",
              "    </tr>\n",
              "    <tr>\n",
              "      <th>7261</th>\n",
              "      <td>Gintama:Enchousen</td>\n",
              "    </tr>\n",
              "    <tr>\n",
              "      <th>12898</th>\n",
              "      <td>March Comes In Like A Lion 2nd Season</td>\n",
              "    </tr>\n",
              "    <tr>\n",
              "      <th>12242</th>\n",
              "      <td>Gintama Season 5</td>\n",
              "    </tr>\n",
              "    <tr>\n",
              "      <th>14293</th>\n",
              "      <td>Gintama.:Silver Soul Arc - Second Half War</td>\n",
              "    </tr>\n",
              "    <tr>\n",
              "      <th>13901</th>\n",
              "      <td>Gintama.:Silver Soul Arc</td>\n",
              "    </tr>\n",
              "    <tr>\n",
              "      <th>12500</th>\n",
              "      <td>Made in Abyss</td>\n",
              "    </tr>\n",
              "    <tr>\n",
              "      <th>1431</th>\n",
              "      <td>Code Geass:Lelouch of the Rebellion</td>\n",
              "    </tr>\n",
              "    <tr>\n",
              "      <th>14631</th>\n",
              "      <td>Demon Slayer:Kimetsu no Yaiba</td>\n",
              "    </tr>\n",
              "    <tr>\n",
              "      <th>13422</th>\n",
              "      <td>I want to eat your pancreas</td>\n",
              "    </tr>\n",
              "    <tr>\n",
              "      <th>13252</th>\n",
              "      <td>Attack on Titan Season 3</td>\n",
              "    </tr>\n",
              "    <tr>\n",
              "      <th>11</th>\n",
              "      <td>One Piece</td>\n",
              "    </tr>\n",
              "    <tr>\n",
              "      <th>5022</th>\n",
              "      <td>Gintama:The Movie</td>\n",
              "    </tr>\n",
              "  </tbody>\n",
              "</table>\n",
              "</div>\n",
              "      <button class=\"colab-df-convert\" onclick=\"convertToInteractive('df-013a41a3-c3e9-4e74-94e3-7d8fe912771a')\"\n",
              "              title=\"Convert this dataframe to an interactive table.\"\n",
              "              style=\"display:none;\">\n",
              "        \n",
              "  <svg xmlns=\"http://www.w3.org/2000/svg\" height=\"24px\"viewBox=\"0 0 24 24\"\n",
              "       width=\"24px\">\n",
              "    <path d=\"M0 0h24v24H0V0z\" fill=\"none\"/>\n",
              "    <path d=\"M18.56 5.44l.94 2.06.94-2.06 2.06-.94-2.06-.94-.94-2.06-.94 2.06-2.06.94zm-11 1L8.5 8.5l.94-2.06 2.06-.94-2.06-.94L8.5 2.5l-.94 2.06-2.06.94zm10 10l.94 2.06.94-2.06 2.06-.94-2.06-.94-.94-2.06-.94 2.06-2.06.94z\"/><path d=\"M17.41 7.96l-1.37-1.37c-.4-.4-.92-.59-1.43-.59-.52 0-1.04.2-1.43.59L10.3 9.45l-7.72 7.72c-.78.78-.78 2.05 0 2.83L4 21.41c.39.39.9.59 1.41.59.51 0 1.02-.2 1.41-.59l7.78-7.78 2.81-2.81c.8-.78.8-2.07 0-2.86zM5.41 20L4 18.59l7.72-7.72 1.47 1.35L5.41 20z\"/>\n",
              "  </svg>\n",
              "      </button>\n",
              "      \n",
              "  <style>\n",
              "    .colab-df-container {\n",
              "      display:flex;\n",
              "      flex-wrap:wrap;\n",
              "      gap: 12px;\n",
              "    }\n",
              "\n",
              "    .colab-df-convert {\n",
              "      background-color: #E8F0FE;\n",
              "      border: none;\n",
              "      border-radius: 50%;\n",
              "      cursor: pointer;\n",
              "      display: none;\n",
              "      fill: #1967D2;\n",
              "      height: 32px;\n",
              "      padding: 0 0 0 0;\n",
              "      width: 32px;\n",
              "    }\n",
              "\n",
              "    .colab-df-convert:hover {\n",
              "      background-color: #E2EBFA;\n",
              "      box-shadow: 0px 1px 2px rgba(60, 64, 67, 0.3), 0px 1px 3px 1px rgba(60, 64, 67, 0.15);\n",
              "      fill: #174EA6;\n",
              "    }\n",
              "\n",
              "    [theme=dark] .colab-df-convert {\n",
              "      background-color: #3B4455;\n",
              "      fill: #D2E3FC;\n",
              "    }\n",
              "\n",
              "    [theme=dark] .colab-df-convert:hover {\n",
              "      background-color: #434B5C;\n",
              "      box-shadow: 0px 1px 3px 1px rgba(0, 0, 0, 0.15);\n",
              "      filter: drop-shadow(0px 1px 2px rgba(0, 0, 0, 0.3));\n",
              "      fill: #FFFFFF;\n",
              "    }\n",
              "  </style>\n",
              "\n",
              "      <script>\n",
              "        const buttonEl =\n",
              "          document.querySelector('#df-013a41a3-c3e9-4e74-94e3-7d8fe912771a button.colab-df-convert');\n",
              "        buttonEl.style.display =\n",
              "          google.colab.kernel.accessAllowed ? 'block' : 'none';\n",
              "\n",
              "        async function convertToInteractive(key) {\n",
              "          const element = document.querySelector('#df-013a41a3-c3e9-4e74-94e3-7d8fe912771a');\n",
              "          const dataTable =\n",
              "            await google.colab.kernel.invokeFunction('convertToInteractive',\n",
              "                                                     [key], {});\n",
              "          if (!dataTable) return;\n",
              "\n",
              "          const docLinkHtml = 'Like what you see? Visit the ' +\n",
              "            '<a target=\"_blank\" href=https://colab.research.google.com/notebooks/data_table.ipynb>data table notebook</a>'\n",
              "            + ' to learn more about interactive tables.';\n",
              "          element.innerHTML = '';\n",
              "          dataTable['output_type'] = 'display_data';\n",
              "          await google.colab.output.renderOutput(dataTable, element);\n",
              "          const docLink = document.createElement('div');\n",
              "          docLink.innerHTML = docLinkHtml;\n",
              "          element.appendChild(docLink);\n",
              "        }\n",
              "      </script>\n",
              "    </div>\n",
              "  </div>\n",
              "  "
            ],
            "text/plain": [
              "                                      eng_version\n",
              "3971              Fullmetal Alchemist:Brotherhood\n",
              "9913                             Gintama Season 4\n",
              "6006                             Gintama Season 2\n",
              "7261                            Gintama:Enchousen\n",
              "12898       March Comes In Like A Lion 2nd Season\n",
              "12242                            Gintama Season 5\n",
              "14293  Gintama.:Silver Soul Arc - Second Half War\n",
              "13901                    Gintama.:Silver Soul Arc\n",
              "12500                               Made in Abyss\n",
              "1431          Code Geass:Lelouch of the Rebellion\n",
              "14631               Demon Slayer:Kimetsu no Yaiba\n",
              "13422                 I want to eat your pancreas\n",
              "13252                    Attack on Titan Season 3\n",
              "11                                      One Piece\n",
              "5022                            Gintama:The Movie"
            ]
          },
          "metadata": {},
          "execution_count": 93
        }
      ]
    },
    {
      "cell_type": "code",
      "source": [
        "user_pref = get_user_preferences(user_encoded2user[5284], plot=True, verbose=1)\n",
        "print('> animes highly rated by this user')\n",
        "\n",
        "pd.DataFrame(user_pref).head(15)"
      ],
      "metadata": {
        "execution": {
          "iopub.status.busy": "2022-03-03T14:51:47.586695Z",
          "iopub.execute_input": "2022-03-03T14:51:47.587322Z",
          "iopub.status.idle": "2022-03-03T14:51:47.604403Z",
          "shell.execute_reply.started": "2022-03-03T14:51:47.587284Z",
          "shell.execute_reply": "2022-03-03T14:51:47.603321Z"
        },
        "trusted": true,
        "colab": {
          "base_uri": "https://localhost:8080/",
          "height": 561
        },
        "id": "kk6GF2u04xMy",
        "outputId": "5c8ef33e-0f40-49a8-98d3-26cd0bdadfd8"
      },
      "execution_count": null,
      "outputs": [
        {
          "output_type": "stream",
          "name": "stdout",
          "text": [
            "> User #210237 has rated 521 movies (avg. rating = 0.6)\n",
            "> preferred genres\n",
            "> animes highly rated by this user\n"
          ]
        },
        {
          "output_type": "execute_result",
          "data": {
            "text/html": [
              "\n",
              "  <div id=\"df-6be8ae39-6e42-4b27-b2a1-d84088d4bc53\">\n",
              "    <div class=\"colab-df-container\">\n",
              "      <div>\n",
              "<style scoped>\n",
              "    .dataframe tbody tr th:only-of-type {\n",
              "        vertical-align: middle;\n",
              "    }\n",
              "\n",
              "    .dataframe tbody tr th {\n",
              "        vertical-align: top;\n",
              "    }\n",
              "\n",
              "    .dataframe thead th {\n",
              "        text-align: right;\n",
              "    }\n",
              "</style>\n",
              "<table border=\"1\" class=\"dataframe\">\n",
              "  <thead>\n",
              "    <tr style=\"text-align: right;\">\n",
              "      <th></th>\n",
              "      <th>eng_version</th>\n",
              "    </tr>\n",
              "  </thead>\n",
              "  <tbody>\n",
              "    <tr>\n",
              "      <th>11308</th>\n",
              "      <td>Your Name.</td>\n",
              "    </tr>\n",
              "    <tr>\n",
              "      <th>0</th>\n",
              "      <td>Cowboy Bebop</td>\n",
              "    </tr>\n",
              "    <tr>\n",
              "      <th>8559</th>\n",
              "      <td>MUSHI-SHI -Next Passage-</td>\n",
              "    </tr>\n",
              "    <tr>\n",
              "      <th>1431</th>\n",
              "      <td>Code Geass:Lelouch of the Rebellion</td>\n",
              "    </tr>\n",
              "    <tr>\n",
              "      <th>142</th>\n",
              "      <td>Princess Mononoke</td>\n",
              "    </tr>\n",
              "    <tr>\n",
              "      <th>404</th>\n",
              "      <td>Howl's Moving Castle</td>\n",
              "    </tr>\n",
              "    <tr>\n",
              "      <th>6607</th>\n",
              "      <td>Fate/Zero Season 2</td>\n",
              "    </tr>\n",
              "    <tr>\n",
              "      <th>8430</th>\n",
              "      <td>The Shadow that Devours the Sun</td>\n",
              "    </tr>\n",
              "    <tr>\n",
              "      <th>8305</th>\n",
              "      <td>Haikyu!!</td>\n",
              "    </tr>\n",
              "    <tr>\n",
              "      <th>11</th>\n",
              "      <td>One Piece</td>\n",
              "    </tr>\n",
              "    <tr>\n",
              "      <th>6565</th>\n",
              "      <td>Steins;Gate:The Movie − Load Region of Déjà Vu</td>\n",
              "    </tr>\n",
              "    <tr>\n",
              "      <th>2061</th>\n",
              "      <td>Baccano!</td>\n",
              "    </tr>\n",
              "    <tr>\n",
              "      <th>2057</th>\n",
              "      <td>Mononoke</td>\n",
              "    </tr>\n",
              "    <tr>\n",
              "      <th>6016</th>\n",
              "      <td>anohana:The Flower We Saw That Day</td>\n",
              "    </tr>\n",
              "    <tr>\n",
              "      <th>8704</th>\n",
              "      <td>Parasyte -the maxim-</td>\n",
              "    </tr>\n",
              "  </tbody>\n",
              "</table>\n",
              "</div>\n",
              "      <button class=\"colab-df-convert\" onclick=\"convertToInteractive('df-6be8ae39-6e42-4b27-b2a1-d84088d4bc53')\"\n",
              "              title=\"Convert this dataframe to an interactive table.\"\n",
              "              style=\"display:none;\">\n",
              "        \n",
              "  <svg xmlns=\"http://www.w3.org/2000/svg\" height=\"24px\"viewBox=\"0 0 24 24\"\n",
              "       width=\"24px\">\n",
              "    <path d=\"M0 0h24v24H0V0z\" fill=\"none\"/>\n",
              "    <path d=\"M18.56 5.44l.94 2.06.94-2.06 2.06-.94-2.06-.94-.94-2.06-.94 2.06-2.06.94zm-11 1L8.5 8.5l.94-2.06 2.06-.94-2.06-.94L8.5 2.5l-.94 2.06-2.06.94zm10 10l.94 2.06.94-2.06 2.06-.94-2.06-.94-.94-2.06-.94 2.06-2.06.94z\"/><path d=\"M17.41 7.96l-1.37-1.37c-.4-.4-.92-.59-1.43-.59-.52 0-1.04.2-1.43.59L10.3 9.45l-7.72 7.72c-.78.78-.78 2.05 0 2.83L4 21.41c.39.39.9.59 1.41.59.51 0 1.02-.2 1.41-.59l7.78-7.78 2.81-2.81c.8-.78.8-2.07 0-2.86zM5.41 20L4 18.59l7.72-7.72 1.47 1.35L5.41 20z\"/>\n",
              "  </svg>\n",
              "      </button>\n",
              "      \n",
              "  <style>\n",
              "    .colab-df-container {\n",
              "      display:flex;\n",
              "      flex-wrap:wrap;\n",
              "      gap: 12px;\n",
              "    }\n",
              "\n",
              "    .colab-df-convert {\n",
              "      background-color: #E8F0FE;\n",
              "      border: none;\n",
              "      border-radius: 50%;\n",
              "      cursor: pointer;\n",
              "      display: none;\n",
              "      fill: #1967D2;\n",
              "      height: 32px;\n",
              "      padding: 0 0 0 0;\n",
              "      width: 32px;\n",
              "    }\n",
              "\n",
              "    .colab-df-convert:hover {\n",
              "      background-color: #E2EBFA;\n",
              "      box-shadow: 0px 1px 2px rgba(60, 64, 67, 0.3), 0px 1px 3px 1px rgba(60, 64, 67, 0.15);\n",
              "      fill: #174EA6;\n",
              "    }\n",
              "\n",
              "    [theme=dark] .colab-df-convert {\n",
              "      background-color: #3B4455;\n",
              "      fill: #D2E3FC;\n",
              "    }\n",
              "\n",
              "    [theme=dark] .colab-df-convert:hover {\n",
              "      background-color: #434B5C;\n",
              "      box-shadow: 0px 1px 3px 1px rgba(0, 0, 0, 0.15);\n",
              "      filter: drop-shadow(0px 1px 2px rgba(0, 0, 0, 0.3));\n",
              "      fill: #FFFFFF;\n",
              "    }\n",
              "  </style>\n",
              "\n",
              "      <script>\n",
              "        const buttonEl =\n",
              "          document.querySelector('#df-6be8ae39-6e42-4b27-b2a1-d84088d4bc53 button.colab-df-convert');\n",
              "        buttonEl.style.display =\n",
              "          google.colab.kernel.accessAllowed ? 'block' : 'none';\n",
              "\n",
              "        async function convertToInteractive(key) {\n",
              "          const element = document.querySelector('#df-6be8ae39-6e42-4b27-b2a1-d84088d4bc53');\n",
              "          const dataTable =\n",
              "            await google.colab.kernel.invokeFunction('convertToInteractive',\n",
              "                                                     [key], {});\n",
              "          if (!dataTable) return;\n",
              "\n",
              "          const docLinkHtml = 'Like what you see? Visit the ' +\n",
              "            '<a target=\"_blank\" href=https://colab.research.google.com/notebooks/data_table.ipynb>data table notebook</a>'\n",
              "            + ' to learn more about interactive tables.';\n",
              "          element.innerHTML = '';\n",
              "          dataTable['output_type'] = 'display_data';\n",
              "          await google.colab.output.renderOutput(dataTable, element);\n",
              "          const docLink = document.createElement('div');\n",
              "          docLink.innerHTML = docLinkHtml;\n",
              "          element.appendChild(docLink);\n",
              "        }\n",
              "      </script>\n",
              "    </div>\n",
              "  </div>\n",
              "  "
            ],
            "text/plain": [
              "                                          eng_version\n",
              "11308                                      Your Name.\n",
              "0                                        Cowboy Bebop\n",
              "8559                         MUSHI-SHI -Next Passage-\n",
              "1431              Code Geass:Lelouch of the Rebellion\n",
              "142                                 Princess Mononoke\n",
              "404                              Howl's Moving Castle\n",
              "6607                               Fate/Zero Season 2\n",
              "8430                  The Shadow that Devours the Sun\n",
              "8305                                         Haikyu!!\n",
              "11                                          One Piece\n",
              "6565   Steins;Gate:The Movie − Load Region of Déjà Vu\n",
              "2061                                         Baccano!\n",
              "2057                                         Mononoke\n",
              "6016               anohana:The Flower We Saw That Day\n",
              "8704                             Parasyte -the maxim-"
            ]
          },
          "metadata": {},
          "execution_count": 95
        }
      ]
    },
    {
      "cell_type": "code",
      "source": [
        "# Saving the embeddings in a useable format\n",
        "users_n2vembeddings_map = {}\n",
        "for user in range(n_users):\n",
        "  users_n2vembeddings_map[user_encoded2user[user]] = users_embeddings[vocabulary_lookup[user]]\n",
        "\n",
        "f5 = open(\"users_n2vembeddings_map.pkl\",\"wb\")\n",
        "pickle.dump(users_n2vembeddings_map,f5)\n",
        "f5.close()"
      ],
      "metadata": {
        "id": "I_l3JYA-Nk9F"
      },
      "execution_count": null,
      "outputs": []
    },
    {
      "cell_type": "code",
      "source": [
        "# load users embeddings\n",
        "\n",
        "del users_n2vembeddings_map\n",
        "with open('users_n2vembeddings_map(full).pkl', 'rb') as f5:\n",
        "  users_n2vembeddings_map = pickle.load(f5)\n",
        "\n",
        "for user_id in users_n2vembeddings_map:\n",
        "  user = user2user_encoded[user_id]\n",
        "  users_embeddings[vocabulary_lookup[user]] = users_n2vembeddings_map[user_id]"
      ],
      "metadata": {
        "id": "V14WgR53N_it"
      },
      "execution_count": null,
      "outputs": []
    }
  ]
}
