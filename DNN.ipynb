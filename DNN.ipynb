{
  "cells": [
    {
      "cell_type": "markdown",
      "source": [
        "# DNN for Anime Recommendation Engine "
      ],
      "metadata": {
        "id": "a1ajHGTBR0Uf"
      },
      "id": "a1ajHGTBR0Uf"
    },
    {
      "cell_type": "code",
      "execution_count": 1,
      "id": "b1d0cc58",
      "metadata": {
        "id": "b1d0cc58"
      },
      "outputs": [],
      "source": [
        "import pickle\n",
        "from pathlib import Path\n",
        "import pandas as pd\n",
        "import numpy as np\n",
        "import matplotlib.pyplot as plt"
      ]
    },
    {
      "cell_type": "code",
      "source": [
        "from google.colab import drive\n",
        "drive.mount('/content/gdrive/')"
      ],
      "metadata": {
        "colab": {
          "base_uri": "https://localhost:8080/"
        },
        "id": "4CENu78nKMOa",
        "outputId": "9b652edf-6bef-4cfe-f765-6ba5e92e0751"
      },
      "id": "4CENu78nKMOa",
      "execution_count": 2,
      "outputs": [
        {
          "output_type": "stream",
          "name": "stdout",
          "text": [
            "Mounted at /content/gdrive/\n"
          ]
        }
      ]
    },
    {
      "cell_type": "code",
      "source": [
        "DATA_DIR = Path('/content/gdrive/MyDrive/CS247/Final_Project')"
      ],
      "metadata": {
        "id": "jZAOqSFFKNdf"
      },
      "id": "jZAOqSFFKNdf",
      "execution_count": 3,
      "outputs": []
    },
    {
      "cell_type": "markdown",
      "source": [
        "## Data preprocessing (skip this section if you have data.pkl and labels.pkl files ready)"
      ],
      "metadata": {
        "id": "AjMzGLawRZDy"
      },
      "id": "AjMzGLawRZDy"
    },
    {
      "cell_type": "code",
      "source": [
        "rating_df = pd.read_csv(DATA_DIR/'data.csv', \n",
        "                        low_memory=False, \n",
        "                        usecols=[\"user_id\", \"anime_id\", \"rating\"]\n",
        "                        )"
      ],
      "metadata": {
        "id": "huK1IIJCIPYe"
      },
      "id": "huK1IIJCIPYe",
      "execution_count": null,
      "outputs": []
    },
    {
      "cell_type": "code",
      "source": [
        "anime = pd.read_csv(DATA_DIR/'anime.csv', \n",
        "                    low_memory=False\n",
        "                    )"
      ],
      "metadata": {
        "id": "3zHc1gZUJysU"
      },
      "id": "3zHc1gZUJysU",
      "execution_count": null,
      "outputs": []
    },
    {
      "cell_type": "code",
      "source": [
        "#animelist = pd.read_csv(DATA_DIR/'animelist.csv', \n",
        "#                        low_memory=True,\n",
        "#                        usecols=[\"user_id\", \"anime_id\", \"watching_status\", \"watched_episodes\"]\n",
        "#                        )"
      ],
      "metadata": {
        "id": "pWOo3xp9JpCH"
      },
      "id": "pWOo3xp9JpCH",
      "execution_count": null,
      "outputs": []
    },
    {
      "cell_type": "code",
      "source": [
        "X = rating_df[['user_id', 'anime_id']].values\n",
        "y = rating_df[\"rating\"].values"
      ],
      "metadata": {
        "id": "cUdeUe8HIsfv"
      },
      "id": "cUdeUe8HIsfv",
      "execution_count": null,
      "outputs": []
    },
    {
      "cell_type": "code",
      "execution_count": null,
      "id": "33ddbd7f",
      "metadata": {
        "id": "33ddbd7f"
      },
      "outputs": [],
      "source": [
        "# load data\n",
        "with open(DATA_DIR/'anime_embedding_map_small.pkl', 'rb') as f:\n",
        "    anime_embedding_map = pickle.load(f)\n",
        "\n",
        "with open(DATA_DIR/'genre_embedding_map_small.pkl', 'rb') as f:\n",
        "    genre_embedding_map = pickle.load(f)\n",
        "\n",
        "with open(DATA_DIR/'user_embedding_map.pkl', 'rb') as f:\n",
        "    user_embedding_map = pickle.load(f)\n",
        "\n",
        "with open(DATA_DIR/'genre_df.pkl', 'rb') as f:\n",
        "    genre_df = pickle.load(f)\n",
        "\n",
        "#with open(DATA_DIR/'X.pkl', 'rb') as f:\n",
        "#    X = pickle.load(f)\n",
        "\n",
        "#with open(DATA_DIR/'y.pkl', 'rb') as f:\n",
        "#    y = pickle.load(f)"
      ]
    },
    {
      "cell_type": "code",
      "source": [
        "X = X[:1050000]\n",
        "y = y[:1050000]"
      ],
      "metadata": {
        "id": "hW9T2hbtJfei"
      },
      "id": "hW9T2hbtJfei",
      "execution_count": null,
      "outputs": []
    },
    {
      "cell_type": "code",
      "source": [
        "len(anime_embedding_map[5]), len(user_embedding_map[259419]), len(genre_embedding_map['Action'][0])"
      ],
      "metadata": {
        "colab": {
          "base_uri": "https://localhost:8080/"
        },
        "id": "Hp4ycB0fw_cr",
        "outputId": "13be590c-76c6-46df-e565-128430331d2f"
      },
      "id": "Hp4ycB0fw_cr",
      "execution_count": null,
      "outputs": [
        {
          "output_type": "execute_result",
          "data": {
            "text/plain": [
              "(256, 128, 128)"
            ]
          },
          "metadata": {},
          "execution_count": 10
        }
      ]
    },
    {
      "cell_type": "code",
      "source": [
        "genre_map = {}\n",
        "\n",
        "for index, row in genre_df.iterrows():\n",
        "    genre_map[int(row['MAL_ID'])] = row['Genres'].split(\", \")"
      ],
      "metadata": {
        "id": "tE9pb6D_tbZk"
      },
      "id": "tE9pb6D_tbZk",
      "execution_count": null,
      "outputs": []
    },
    {
      "cell_type": "code",
      "source": [
        "from IPython.display import clear_output\n",
        "# progress bar to check if the program running\n",
        "def update_progress(progress):\n",
        "    bar_length = 50\n",
        "    if isinstance(progress, int):\n",
        "        progress = float(progress)\n",
        "    if not isinstance(progress, float):\n",
        "        progress = 0\n",
        "    if progress < 0:\n",
        "        progress = 0\n",
        "    if progress >= 1:\n",
        "        progress = 1\n",
        "        \n",
        "    block = int(round(bar_length * progress))\n",
        "\n",
        "    clear_output(wait = True)\n",
        "    text = \"Progress: [{0}] {1:.1f}%\".format( \"#\" * block + \"-\" * (bar_length - block), progress * 100)\n",
        "    print(text)"
      ],
      "metadata": {
        "id": "0WpNvErCVJ0t"
      },
      "id": "0WpNvErCVJ0t",
      "execution_count": null,
      "outputs": []
    },
    {
      "cell_type": "code",
      "source": [
        "X_emb = np.zeros((len(X), 256+128+128+2))\n",
        "y_emb = np.zeros(len(y))\n",
        "count = 0\n",
        "for i in range(len(X)):\n",
        "    user_id, anime_id = X[i]\n",
        "    if anime_id not in anime_embedding_map.keys() or user_id not in user_embedding_map.keys():\n",
        "        continue\n",
        "    user_embed = user_embedding_map[user_id]\n",
        "    anime_embed = anime_embedding_map[anime_id]\n",
        "    genre_embs = [genre_embedding_map[genre][0] for genre in genre_map[anime_id]]\n",
        "    genre_embs = np.array(genre_embs)\n",
        "    genre_embed = np.sum(genre_embs, axis=0)  / len(genre_embs)\n",
        "    score = anime[anime['MAL_ID']==anime_id]['Score'].item()\n",
        "    episodes = anime[anime['MAL_ID']==anime_id]['Episodes'].item()\n",
        "    if score == 'Unknown' or episodes == 'Unknown':\n",
        "        continue\n",
        "    score = float(score)\n",
        "    episodes = float(episodes)\n",
        "    #watching_status = float(animelist[(animelist['user_id']==user_id)&(animelist['anime_id']==anime_id)]['watching_status'].item())\n",
        "    #watched_episodes = float(animelist[(animelist['user_id']==user_id)&(animelist['anime_id']==anime_id)]['watched_episodes'].item())\n",
        "    #side_features = np.array([score, episodes, watching_status, watched_episodes])\n",
        "    side_features = np.array([score, episodes])\n",
        "    x_emb = np.concatenate((user_embed, anime_embed), axis=None)\n",
        "    x_emb = np.concatenate((x_emb, genre_embed), axis=None)\n",
        "    x_emb = np.concatenate((x_emb, side_features), axis=None)\n",
        "    X_emb[count] = x_emb\n",
        "    y_emb[count] = y[i]\n",
        "    count += 1\n",
        "    update_progress(i/float(len(X)))\n",
        "\n",
        "print(count)\n",
        "X_emb = X_emb[:count]\n",
        "y_emb = y_emb[:count]"
      ],
      "metadata": {
        "id": "hdFZpIpvsgTj"
      },
      "id": "hdFZpIpvsgTj",
      "execution_count": null,
      "outputs": []
    },
    {
      "cell_type": "code",
      "source": [
        "with open(DATA_DIR/'data.pkl', 'wb') as f:\n",
        "    pickle.dump(X_emb, f)\n",
        "\n",
        "with open(DATA_DIR/'labels.pkl', 'wb') as f:\n",
        "    pickle.dump(y_emb, f)"
      ],
      "metadata": {
        "id": "YN-2vWMNZsvl"
      },
      "id": "YN-2vWMNZsvl",
      "execution_count": null,
      "outputs": []
    },
    {
      "cell_type": "markdown",
      "source": [
        "## Load train/test data"
      ],
      "metadata": {
        "id": "p-U8sR0tRh7b"
      },
      "id": "p-U8sR0tRh7b"
    },
    {
      "cell_type": "code",
      "source": [
        "with open(DATA_DIR/'data.pkl', 'rb') as f:\n",
        "    X_emb = pickle.load(f)\n",
        "\n",
        "with open(DATA_DIR/'labels.pkl', 'rb') as f:\n",
        "    y_emb = pickle.load(f)\n",
        "\n",
        "print(len(X_emb), len(y_emb))"
      ],
      "metadata": {
        "colab": {
          "base_uri": "https://localhost:8080/"
        },
        "id": "rL358yxhDnCB",
        "outputId": "17c668cb-0805-4887-a171-f506440480db"
      },
      "id": "rL358yxhDnCB",
      "execution_count": 4,
      "outputs": [
        {
          "output_type": "stream",
          "name": "stdout",
          "text": [
            "1030631 1030631\n"
          ]
        }
      ]
    },
    {
      "cell_type": "markdown",
      "source": [
        "## DNN training/test"
      ],
      "metadata": {
        "id": "WlIj7ZVlRp4S"
      },
      "id": "WlIj7ZVlRp4S"
    },
    {
      "cell_type": "code",
      "source": [
        "train_size = 1000000\n",
        "\n",
        "X_train, X_test, y_train, y_test = (\n",
        "    X_emb[:train_size],\n",
        "    X_emb[train_size:],\n",
        "    y_emb[:train_size],\n",
        "    y_emb[train_size:],\n",
        ")"
      ],
      "metadata": {
        "id": "iRuqSWMCl-sV"
      },
      "id": "iRuqSWMCl-sV",
      "execution_count": 5,
      "outputs": []
    },
    {
      "cell_type": "code",
      "source": [
        "import torch\n",
        "import torch.nn as nn\n",
        "import torch.nn.functional as F\n",
        "from torch.utils.data import Dataset, DataLoader, TensorDataset"
      ],
      "metadata": {
        "id": "xAd7wx325Lwu"
      },
      "id": "xAd7wx325Lwu",
      "execution_count": 6,
      "outputs": []
    },
    {
      "cell_type": "code",
      "source": [
        "device = torch.device(\"cuda\" if torch.cuda.is_available() else \"cpu\")\n",
        "print(f\"running on {device}\")"
      ],
      "metadata": {
        "colab": {
          "base_uri": "https://localhost:8080/"
        },
        "id": "7VozgDO29blT",
        "outputId": "29291db3-35f5-4faf-909e-ffbf22328447"
      },
      "id": "7VozgDO29blT",
      "execution_count": 7,
      "outputs": [
        {
          "output_type": "stream",
          "name": "stdout",
          "text": [
            "running on cuda\n"
          ]
        }
      ]
    },
    {
      "cell_type": "code",
      "source": [
        "batch_size = 128\n",
        "train_tensor = TensorDataset(torch.FloatTensor(X_train).to(device), torch.FloatTensor(y_train).view(-1,1).to(device))\n",
        "test_tensor = TensorDataset(torch.FloatTensor(X_test).to(device), torch.FloatTensor(y_test).view(-1,1).to(device))\n",
        "train_dl = DataLoader(train_tensor, batch_size=batch_size, shuffle=True)\n",
        "test_dl = DataLoader(test_tensor, batch_size=batch_size)"
      ],
      "metadata": {
        "id": "pzGF2T4l-i1y"
      },
      "id": "pzGF2T4l-i1y",
      "execution_count": 8,
      "outputs": []
    },
    {
      "cell_type": "code",
      "source": [
        "class DNN(nn.Module):\n",
        "    def __init__(self):\n",
        "        super(DNN, self).__init__()\n",
        "        self.main = nn.Sequential(\n",
        "            nn.Linear(514, 256),\n",
        "            nn.ReLU(),\n",
        "            nn.Linear(256, 128),\n",
        "            nn.ReLU(),\n",
        "            nn.Linear(128, 64),\n",
        "            nn.ReLU(),\n",
        "            nn.Linear(64, 1),\n",
        "            nn.Sigmoid()\n",
        "        )\n",
        "\n",
        "    def forward(self, x):\n",
        "        x = self.main(x)\n",
        "        return x\n",
        "\n",
        "    def train_net(self, train_dl, test_dl, epochs=15):\n",
        "        self.to(device)\n",
        "        optimizer = torch.optim.Adam(self.parameters(), lr=1e-3)\n",
        "        train_loss_list = []\n",
        "        test_loss_list = []\n",
        "        \n",
        "        for epoch in range(epochs):\n",
        "            self.train()\n",
        "            train_loss = 0\n",
        "            for i, (data,labels) in enumerate(train_dl):\n",
        "                data, labels = data.to(device), labels.to(device)\n",
        "                optimizer.zero_grad()\n",
        "                prediction = self(data)\n",
        "                loss = torch.sqrt(nn.MSELoss()(prediction, labels)) # RMSE Loss\n",
        "                loss.backward()\n",
        "                optimizer.step()\n",
        "                train_loss += loss\n",
        "            train_loss /= (i+1) \n",
        "\n",
        "            self.eval()\n",
        "            test_loss = self.test(test_dl)\n",
        "\n",
        "            print ('Epoch:%d, train loss: %f, test loss: %f'%(epoch+1, train_loss, test_loss))\n",
        "            train_loss_list.append(train_loss)\n",
        "            test_loss_list.append(test_loss)\n",
        "\n",
        "        return train_loss_list, test_loss_list\n",
        "\n",
        "    def test(self, test_dl):\n",
        "        self.eval()\n",
        "        loss = 0\n",
        "        with torch.no_grad():\n",
        "            for i, (data,label) in enumerate(test_dl):\n",
        "                data, label = data.to(device), label.to(device)\n",
        "                prediction = self(data)\n",
        "                loss += torch.sqrt(nn.MSELoss()(prediction, label)) # RMSE Loss\n",
        "        loss /= (i+1)\n",
        "        return loss"
      ],
      "metadata": {
        "id": "Vdj2oRz26W6-"
      },
      "id": "Vdj2oRz26W6-",
      "execution_count": 9,
      "outputs": []
    },
    {
      "cell_type": "code",
      "source": [
        "dnn = DNN().to(device)\n",
        "n_epochs = 30\n",
        "train_loss_list, test_loss_list = dnn.train_net(train_dl, test_dl, epochs=n_epochs)"
      ],
      "metadata": {
        "colab": {
          "base_uri": "https://localhost:8080/"
        },
        "id": "J3map_0UCTZ5",
        "outputId": "1f022f8c-dc83-4927-ce57-1c6db7d0a93f"
      },
      "id": "J3map_0UCTZ5",
      "execution_count": 10,
      "outputs": [
        {
          "output_type": "stream",
          "name": "stdout",
          "text": [
            "Epoch:1, train loss: 0.272476, test loss: 0.270811\n",
            "Epoch:2, train loss: 0.268704, test loss: 0.267462\n",
            "Epoch:3, train loss: 0.266556, test loss: 0.264551\n",
            "Epoch:4, train loss: 0.263926, test loss: 0.263694\n",
            "Epoch:5, train loss: 0.260834, test loss: 0.261056\n",
            "Epoch:6, train loss: 0.257486, test loss: 0.257831\n",
            "Epoch:7, train loss: 0.254002, test loss: 0.252789\n",
            "Epoch:8, train loss: 0.250869, test loss: 0.249807\n",
            "Epoch:9, train loss: 0.248221, test loss: 0.247450\n",
            "Epoch:10, train loss: 0.246070, test loss: 0.246045\n",
            "Epoch:11, train loss: 0.244451, test loss: 0.246147\n",
            "Epoch:12, train loss: 0.243117, test loss: 0.243273\n",
            "Epoch:13, train loss: 0.241807, test loss: 0.242792\n",
            "Epoch:14, train loss: 0.240663, test loss: 0.243160\n",
            "Epoch:15, train loss: 0.239908, test loss: 0.243159\n",
            "Epoch:16, train loss: 0.239101, test loss: 0.240050\n",
            "Epoch:17, train loss: 0.238434, test loss: 0.240282\n",
            "Epoch:18, train loss: 0.237816, test loss: 0.240907\n",
            "Epoch:19, train loss: 0.237150, test loss: 0.239336\n",
            "Epoch:20, train loss: 0.236528, test loss: 0.240182\n",
            "Epoch:21, train loss: 0.235969, test loss: 0.238426\n",
            "Epoch:22, train loss: 0.235763, test loss: 0.237590\n",
            "Epoch:23, train loss: 0.235311, test loss: 0.238516\n",
            "Epoch:24, train loss: 0.234924, test loss: 0.236618\n",
            "Epoch:25, train loss: 0.234557, test loss: 0.237642\n",
            "Epoch:26, train loss: 0.234233, test loss: 0.237315\n",
            "Epoch:27, train loss: 0.233842, test loss: 0.237404\n",
            "Epoch:28, train loss: 0.233620, test loss: 0.236891\n",
            "Epoch:29, train loss: 0.233347, test loss: 0.238078\n",
            "Epoch:30, train loss: 0.232913, test loss: 0.236068\n"
          ]
        }
      ]
    },
    {
      "cell_type": "code",
      "source": [
        "train_loss_list = [loss.cpu().detach().numpy() for loss in train_loss_list]\n",
        "test_loss_list = [loss.cpu().detach().numpy() for loss in test_loss_list]"
      ],
      "metadata": {
        "id": "KU2nFZ4ijkUR"
      },
      "id": "KU2nFZ4ijkUR",
      "execution_count": 11,
      "outputs": []
    },
    {
      "cell_type": "code",
      "source": [
        "plt.figure(figsize=(10, 6))\n",
        "plt.plot([i for i in range(1,n_epochs+1)],train_loss_list,label=\"train\")\n",
        "plt.plot([i for i in range(1,n_epochs+1)],test_loss_list,label=\"test\")\n",
        "plt.xticks(range(1,n_epochs+1))\n",
        "plt.xlabel('Epoch')\n",
        "plt.ylabel('RMSE Loss')\n",
        "plt.title('DNN Loss')\n",
        "plt.legend()\n",
        "plt.show()\n",
        "plt.clf()"
      ],
      "metadata": {
        "colab": {
          "base_uri": "https://localhost:8080/",
          "height": 421
        },
        "id": "gmelTo1lbEob",
        "outputId": "37f2bf10-fd6e-4510-903d-904d438210b6"
      },
      "id": "gmelTo1lbEob",
      "execution_count": 14,
      "outputs": [
        {
          "output_type": "display_data",
          "data": {
            "text/plain": [
              "<Figure size 720x432 with 1 Axes>"
            ],
            "image/png": "[encoded data removed]"
          },
          "metadata": {
            "needs_background": "light"
          }
        },
        {
          "output_type": "display_data",
          "data": {
            "text/plain": [
              "<Figure size 432x288 with 0 Axes>"
            ]
          },
          "metadata": {}
        }
      ]
    },
    {
      "cell_type": "code",
      "source": [
        "dnn.forward(torch.FloatTensor(X_test[300:310]).to(device)), y_test[300:310]"
      ],
      "metadata": {
        "colab": {
          "base_uri": "https://localhost:8080/"
        },
        "id": "Y0BSMU_OE9dT",
        "outputId": "19677057-4424-4870-aea9-0077e3e9b316"
      },
      "id": "Y0BSMU_OE9dT",
      "execution_count": null,
      "outputs": [
        {
          "output_type": "execute_result",
          "data": {
            "text/plain": [
              "(tensor([[5.5308e-01],\n",
              "         [4.5496e-01],\n",
              "         [6.7353e-01],\n",
              "         [2.0245e-01],\n",
              "         [4.8976e-01],\n",
              "         [4.7114e-01],\n",
              "         [6.2567e-01],\n",
              "         [6.9839e-01],\n",
              "         [6.8118e-01],\n",
              "         [4.8228e-04]], device='cuda:0', grad_fn=<SigmoidBackward0>),\n",
              " array([0. , 0.4, 0.7, 0.5, 0.6, 0.6, 0.7, 0.7, 0.7, 0. ]))"
            ]
          },
          "metadata": {},
          "execution_count": 28
        }
      ]
    },
    {
      "cell_type": "code",
      "source": [
        ""
      ],
      "metadata": {
        "id": "WciCBmfJMT1F"
      },
      "id": "WciCBmfJMT1F",
      "execution_count": null,
      "outputs": []
    }
  ],
  "metadata": {
    "kernelspec": {
      "display_name": "Python 3",
      "language": "python",
      "name": "python3"
    },
    "language_info": {
      "codemirror_mode": {
        "name": "ipython",
        "version": 3
      },
      "file_extension": ".py",
      "mimetype": "text/x-python",
      "name": "python",
      "nbconvert_exporter": "python",
      "pygments_lexer": "ipython3",
      "version": "3.8.8"
    },
    "colab": {
      "name": "DNN.ipynb",
      "provenance": []
    },
    "accelerator": "GPU"
  },
  "nbformat": 4,
  "nbformat_minor": 5
}